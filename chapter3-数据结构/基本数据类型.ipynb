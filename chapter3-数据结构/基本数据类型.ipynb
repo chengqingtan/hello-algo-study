{
 "cells": [
  {
   "cell_type": "markdown",
   "source": [
    "## 3.2 基本数据类型"
   ],
   "metadata": {
    "collapsed": false
   },
   "id": "47aa40638279463c"
  },
  {
   "cell_type": "code",
   "execution_count": 5,
   "outputs": [],
   "source": [
    "# 使用多种基本数据类型来初始化数组\n",
    "numbers: list[int] = [0] * 5\n",
    "decimals: list[float] = [0.0] * 5\n",
    "# Python 的字符应被看作长度为一的字符串\n",
    "characters: list[str] = ['0'] * 5\n",
    "bools: list[bool] = [False] * 5\n",
    "# Python 的列表可以自由存储各种基本数据类型和对象引用\n",
    "data = [0, 0.0, 'a', False, 'abcd']"
   ],
   "metadata": {
    "collapsed": false,
    "ExecuteTime": {
     "end_time": "2023-10-17T08:47:39.775038400Z",
     "start_time": "2023-10-17T08:47:39.770156300Z"
    }
   },
   "id": "a00242a170ff20ea"
  },
  {
   "cell_type": "code",
   "execution_count": null,
   "outputs": [],
   "source": [],
   "metadata": {
    "collapsed": false
   },
   "id": "215f10c4b06146fa"
  }
 ],
 "metadata": {
  "kernelspec": {
   "display_name": "Python 3",
   "language": "python",
   "name": "python3"
  },
  "language_info": {
   "codemirror_mode": {
    "name": "ipython",
    "version": 2
   },
   "file_extension": ".py",
   "mimetype": "text/x-python",
   "name": "python",
   "nbconvert_exporter": "python",
   "pygments_lexer": "ipython2",
   "version": "2.7.6"
  }
 },
 "nbformat": 4,
 "nbformat_minor": 5
}
