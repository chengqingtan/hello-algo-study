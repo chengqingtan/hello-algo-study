{
 "cells": [
  {
   "cell_type": "markdown",
   "source": [
    "## 13.3 子集和问题"
   ],
   "metadata": {
    "collapsed": false
   },
   "id": "3e927e9e79a4613d"
  },
  {
   "cell_type": "markdown",
   "source": [
    "### Question 1:\n",
    "给定一个正整数数组 nums 和一个目标正整数 target ，请找出所有可能的组合，使得组合中的元素和等于target。\n",
    "给定数组无重复元素，每个元素可以被选取多次。请以列表形式返回这些组合，列表中不应包含重复组合。"
   ],
   "metadata": {
    "collapsed": false
   },
   "id": "281af8105928041c"
  },
  {
   "cell_type": "code",
   "execution_count": 18,
   "outputs": [
    {
     "name": "stdout",
     "output_type": "stream",
     "text": [
      "[[1, 7], [3, 5], [5, 3], [7, 1]]\n"
     ]
    }
   ],
   "source": [
    "# 以下解法会出现重复的子集\n",
    "def find1(nums:list[int], target:int) -> list[list[int]]:\n",
    "    \n",
    "    def backtrace(target:int, state:list[int], sum:int, choices:list[int], res:list[list[int]]):\n",
    "        if sum == target:\n",
    "            res.append(state)\n",
    "            return \n",
    "        elif sum > target or len(choices) == 0:\n",
    "            return \n",
    "        else:\n",
    "            for e in choices:\n",
    "                _state = state.copy()\n",
    "                _state.append(e)\n",
    "                _choices = choices.copy()\n",
    "                _choices.remove(e)\n",
    "                backtrace(target, _state, sum + e, _choices, res)\n",
    "    \n",
    "    res = []\n",
    "    backtrace(target, [], 0, nums, res)\n",
    "    return res\n",
    "\n",
    "l1 = [1, 3, 5, 7, 11]\n",
    "print(find1(l1, 8))\n",
    "        "
   ],
   "metadata": {
    "collapsed": false,
    "ExecuteTime": {
     "end_time": "2023-10-22T07:58:21.584029100Z",
     "start_time": "2023-10-22T07:58:21.579144800Z"
    }
   },
   "id": "a808c8426361f71"
  },
  {
   "cell_type": "code",
   "execution_count": 22,
   "outputs": [
    {
     "name": "stdout",
     "output_type": "stream",
     "text": [
      "[[1, 7], [3, 5]]\n"
     ]
    }
   ],
   "source": [
    "# 对上面的方法进行修改，限定顺序\n",
    "def find1(nums:list[int], target:int) -> list[list[int]]:\n",
    "    \n",
    "    def backtrace(target:int, state:list[int], sum:int, choices:list[int], res:list[list[int]]):\n",
    "        if sum == target:\n",
    "            res.append(state)\n",
    "            return \n",
    "        elif sum > target or len(choices) == 0:\n",
    "            return \n",
    "        else:\n",
    "            for e in choices:\n",
    "                _state = state.copy()\n",
    "                _state.append(e)\n",
    "                # 每次choices只能选择出现在 e 之后的元素\n",
    "                idx = choices.index(e)\n",
    "                _choices = choices.copy()[idx:]\n",
    "                _choices.remove(e)\n",
    "                backtrace(target, _state, sum + e, _choices, res)\n",
    "    \n",
    "    res = []\n",
    "    backtrace(target, [], 0, nums, res)\n",
    "    return res\n",
    "\n",
    "l1 = [1, 3, 5, 7, 11]\n",
    "print(find1(l1, 8))"
   ],
   "metadata": {
    "collapsed": false,
    "ExecuteTime": {
     "end_time": "2023-10-22T08:02:50.705626300Z",
     "start_time": "2023-10-22T08:02:50.701722800Z"
    }
   },
   "id": "e6ce6ac24bd60f60"
  },
  {
   "cell_type": "markdown",
   "source": [
    "### Question 2:\n",
    "考虑重复元素的情况"
   ],
   "metadata": {
    "collapsed": false
   },
   "id": "f9e9aee8be66985e"
  },
  {
   "cell_type": "code",
   "execution_count": 26,
   "outputs": [
    {
     "name": "stdout",
     "output_type": "stream",
     "text": [
      "[[1, 5], [3, 3]]\n"
     ]
    }
   ],
   "source": [
    "# 对上面的方法进行修改，限定顺序\n",
    "def find1(nums:list[int], target:int) -> list[list[int]]:\n",
    "    \n",
    "    def backtrace(target:int, state:list[int], sum:int, choices:list[int], res:list[list[int]]):\n",
    "        if sum == target:\n",
    "            res.append(state)\n",
    "            return \n",
    "        elif sum > target or len(choices) == 0:\n",
    "            return \n",
    "        else:\n",
    "            duplicated = []\n",
    "            for e in choices:\n",
    "                if e not in duplicated:\n",
    "                    duplicated.append(e)\n",
    "                    _state = state.copy()\n",
    "                    _state.append(e)\n",
    "                    # 每次choices只能选择出现在 e 之后的元素\n",
    "                    idx = choices.index(e)\n",
    "                    _choices = choices.copy()[idx:]\n",
    "                    _choices.remove(e)\n",
    "                    backtrace(target, _state, sum + e, _choices, res)\n",
    "    \n",
    "    res = []\n",
    "    backtrace(target, [], 0, nums, res)\n",
    "    return res\n",
    "\n",
    "l1 = [1, 3, 3, 5, 7, 11]\n",
    "print(find1(l1, 6))"
   ],
   "metadata": {
    "collapsed": false,
    "ExecuteTime": {
     "end_time": "2023-10-22T08:05:01.453754600Z",
     "start_time": "2023-10-22T08:05:01.449848700Z"
    }
   },
   "id": "58420d972c7aca61"
  },
  {
   "cell_type": "code",
   "execution_count": null,
   "outputs": [],
   "source": [],
   "metadata": {
    "collapsed": false
   },
   "id": "9f5eda5c1f39ffe5"
  }
 ],
 "metadata": {
  "kernelspec": {
   "display_name": "Python 3",
   "language": "python",
   "name": "python3"
  },
  "language_info": {
   "codemirror_mode": {
    "name": "ipython",
    "version": 2
   },
   "file_extension": ".py",
   "mimetype": "text/x-python",
   "name": "python",
   "nbconvert_exporter": "python",
   "pygments_lexer": "ipython2",
   "version": "2.7.6"
  }
 },
 "nbformat": 4,
 "nbformat_minor": 5
}
