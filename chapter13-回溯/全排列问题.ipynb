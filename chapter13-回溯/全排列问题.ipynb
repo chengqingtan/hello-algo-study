{
 "cells": [
  {
   "cell_type": "markdown",
   "source": [
    "## 13.2 全排列问题"
   ],
   "metadata": {
    "collapsed": false
   },
   "id": "a7c6b619595c04e2"
  },
  {
   "cell_type": "markdown",
   "source": [
    "### Question 1:\n",
    "输入一个整数数组，数组中不包含重复元素，返回所有可能的排列。"
   ],
   "metadata": {
    "collapsed": false
   },
   "id": "e142d29923e6051a"
  },
  {
   "cell_type": "code",
   "execution_count": 10,
   "outputs": [
    {
     "name": "stdout",
     "output_type": "stream",
     "text": [
      "120\n",
      "[[1, 2, 3, 4, 5], [1, 2, 3, 5, 4], [1, 2, 4, 3, 5], [1, 2, 4, 5, 3], [1, 2, 5, 3, 4], [1, 2, 5, 4, 3], [1, 3, 2, 4, 5], [1, 3, 2, 5, 4], [1, 3, 4, 2, 5], [1, 3, 4, 5, 2], [1, 3, 5, 2, 4], [1, 3, 5, 4, 2], [1, 4, 2, 3, 5], [1, 4, 2, 5, 3], [1, 4, 3, 2, 5], [1, 4, 3, 5, 2], [1, 4, 5, 2, 3], [1, 4, 5, 3, 2], [1, 5, 2, 3, 4], [1, 5, 2, 4, 3], [1, 5, 3, 2, 4], [1, 5, 3, 4, 2], [1, 5, 4, 2, 3], [1, 5, 4, 3, 2], [2, 1, 3, 4, 5], [2, 1, 3, 5, 4], [2, 1, 4, 3, 5], [2, 1, 4, 5, 3], [2, 1, 5, 3, 4], [2, 1, 5, 4, 3], [2, 3, 1, 4, 5], [2, 3, 1, 5, 4], [2, 3, 4, 1, 5], [2, 3, 4, 5, 1], [2, 3, 5, 1, 4], [2, 3, 5, 4, 1], [2, 4, 1, 3, 5], [2, 4, 1, 5, 3], [2, 4, 3, 1, 5], [2, 4, 3, 5, 1], [2, 4, 5, 1, 3], [2, 4, 5, 3, 1], [2, 5, 1, 3, 4], [2, 5, 1, 4, 3], [2, 5, 3, 1, 4], [2, 5, 3, 4, 1], [2, 5, 4, 1, 3], [2, 5, 4, 3, 1], [3, 1, 2, 4, 5], [3, 1, 2, 5, 4], [3, 1, 4, 2, 5], [3, 1, 4, 5, 2], [3, 1, 5, 2, 4], [3, 1, 5, 4, 2], [3, 2, 1, 4, 5], [3, 2, 1, 5, 4], [3, 2, 4, 1, 5], [3, 2, 4, 5, 1], [3, 2, 5, 1, 4], [3, 2, 5, 4, 1], [3, 4, 1, 2, 5], [3, 4, 1, 5, 2], [3, 4, 2, 1, 5], [3, 4, 2, 5, 1], [3, 4, 5, 1, 2], [3, 4, 5, 2, 1], [3, 5, 1, 2, 4], [3, 5, 1, 4, 2], [3, 5, 2, 1, 4], [3, 5, 2, 4, 1], [3, 5, 4, 1, 2], [3, 5, 4, 2, 1], [4, 1, 2, 3, 5], [4, 1, 2, 5, 3], [4, 1, 3, 2, 5], [4, 1, 3, 5, 2], [4, 1, 5, 2, 3], [4, 1, 5, 3, 2], [4, 2, 1, 3, 5], [4, 2, 1, 5, 3], [4, 2, 3, 1, 5], [4, 2, 3, 5, 1], [4, 2, 5, 1, 3], [4, 2, 5, 3, 1], [4, 3, 1, 2, 5], [4, 3, 1, 5, 2], [4, 3, 2, 1, 5], [4, 3, 2, 5, 1], [4, 3, 5, 1, 2], [4, 3, 5, 2, 1], [4, 5, 1, 2, 3], [4, 5, 1, 3, 2], [4, 5, 2, 1, 3], [4, 5, 2, 3, 1], [4, 5, 3, 1, 2], [4, 5, 3, 2, 1], [5, 1, 2, 3, 4], [5, 1, 2, 4, 3], [5, 1, 3, 2, 4], [5, 1, 3, 4, 2], [5, 1, 4, 2, 3], [5, 1, 4, 3, 2], [5, 2, 1, 3, 4], [5, 2, 1, 4, 3], [5, 2, 3, 1, 4], [5, 2, 3, 4, 1], [5, 2, 4, 1, 3], [5, 2, 4, 3, 1], [5, 3, 1, 2, 4], [5, 3, 1, 4, 2], [5, 3, 2, 1, 4], [5, 3, 2, 4, 1], [5, 3, 4, 1, 2], [5, 3, 4, 2, 1], [5, 4, 1, 2, 3], [5, 4, 1, 3, 2], [5, 4, 2, 1, 3], [5, 4, 2, 3, 1], [5, 4, 3, 1, 2], [5, 4, 3, 2, 1]]\n"
     ]
    }
   ],
   "source": [
    "def find(nums:list[int]) -> list[list[int]]:\n",
    "    \n",
    "    def backtrace(state:list[int], choices:list[int], res:list[list[int]]):\n",
    "        # 回溯条件\n",
    "        if len(choices) == 0:\n",
    "            res.append(state)\n",
    "            return \n",
    "        for e in choices:\n",
    "            # 对于每个可选元素\n",
    "            _state = state.copy()\n",
    "            _state.append(e)\n",
    "            _choices = choices.copy()\n",
    "            _choices.remove(e)\n",
    "            backtrace(_state, _choices, res)\n",
    "    \n",
    "    res = []\n",
    "    backtrace([], nums, res)\n",
    "    return res\n",
    "\n",
    "l1 = [1, 2, 3, 4, 5]\n",
    "res = find(l1)\n",
    "print(len(res))\n",
    "print(res)\n",
    "            \n",
    "            "
   ],
   "metadata": {
    "collapsed": false,
    "ExecuteTime": {
     "end_time": "2023-10-22T07:24:42.883396800Z",
     "start_time": "2023-10-22T07:24:42.878514Z"
    }
   },
   "id": "909287f728d4e4a"
  },
  {
   "cell_type": "markdown",
   "source": [
    "### Question 2:\n",
    "考虑相等元素的情况"
   ],
   "metadata": {
    "collapsed": false
   },
   "id": "d5109a52cfea3964"
  },
  {
   "cell_type": "code",
   "execution_count": 17,
   "outputs": [
    {
     "name": "stdout",
     "output_type": "stream",
     "text": [
      "12\n",
      "[[1, 2, 3, 3], [1, 3, 2, 3], [1, 3, 3, 2], [2, 1, 3, 3], [2, 3, 1, 3], [2, 3, 3, 1], [3, 1, 2, 3], [3, 1, 3, 2], [3, 2, 1, 3], [3, 2, 3, 1], [3, 3, 1, 2], [3, 3, 2, 1]]\n"
     ]
    }
   ],
   "source": [
    "def find(nums:list[int]) -> list[list[int]]:\n",
    "    \n",
    "    def backtrace(state:list[int], choices:list[int], res:list[list[int]]):\n",
    "        # 回溯条件\n",
    "        if len(choices) == 0:\n",
    "            res.append(state)\n",
    "            return \n",
    "        duplicated = []\n",
    "        for e in choices:\n",
    "            if e not in duplicated:\n",
    "                duplicated.append(e)\n",
    "                # 对于每个可选元素\n",
    "                _state = state.copy()\n",
    "                _state.append(e)\n",
    "                _choices = choices.copy()\n",
    "                _choices.remove(e)\n",
    "                backtrace(_state, _choices, res)\n",
    "    \n",
    "    res = []\n",
    "    backtrace([], nums, res)\n",
    "    return res\n",
    "\n",
    "l1 = [1, 2, 3, 3]\n",
    "res = find(l1)\n",
    "print(len(res))\n",
    "print(res)"
   ],
   "metadata": {
    "collapsed": false,
    "ExecuteTime": {
     "end_time": "2023-10-22T07:35:16.979191Z",
     "start_time": "2023-10-22T07:35:16.974005500Z"
    }
   },
   "id": "ea2c53bdf1935d09"
  },
  {
   "cell_type": "code",
   "execution_count": null,
   "outputs": [],
   "source": [],
   "metadata": {
    "collapsed": false
   },
   "id": "bfb76a0ea31af7e7"
  }
 ],
 "metadata": {
  "kernelspec": {
   "display_name": "Python 3",
   "language": "python",
   "name": "python3"
  },
  "language_info": {
   "codemirror_mode": {
    "name": "ipython",
    "version": 2
   },
   "file_extension": ".py",
   "mimetype": "text/x-python",
   "name": "python",
   "nbconvert_exporter": "python",
   "pygments_lexer": "ipython2",
   "version": "2.7.6"
  }
 },
 "nbformat": 4,
 "nbformat_minor": 5
}
