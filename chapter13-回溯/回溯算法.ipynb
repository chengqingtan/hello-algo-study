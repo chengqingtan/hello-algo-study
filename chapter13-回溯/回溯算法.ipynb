{
 "cells": [
  {
   "cell_type": "markdown",
   "source": [
    "# 13.1 回溯算法"
   ],
   "metadata": {
    "collapsed": false
   },
   "id": "8157d245109b2c0f"
  },
  {
   "cell_type": "markdown",
   "source": [
    "### Question 1:\n",
    "给定一个二叉树，搜索并记录所有值为 7 的节点，请返回节点列表。"
   ],
   "metadata": {
    "collapsed": false
   },
   "id": "b337d6321125d0a8"
  },
  {
   "cell_type": "code",
   "execution_count": 3,
   "outputs": [
    {
     "name": "stdout",
     "output_type": "stream",
     "text": [
      "[7, 7, 7, 7]\n"
     ]
    }
   ],
   "source": [
    "class TreeNode:\n",
    "    def __init__(self, val):\n",
    "        self.val = val\n",
    "        self.left:TreeNode | None = None\n",
    "        self.right:TreeNode | None = None\n",
    "        \n",
    "    def __str__(self):\n",
    "        return str(self.val)\n",
    "\n",
    "n1 = TreeNode(7)\n",
    "n2 = TreeNode(2)\n",
    "n3 = TreeNode(7)\n",
    "n4 = TreeNode(4)\n",
    "n5 = TreeNode(7)\n",
    "n6 = TreeNode(6)\n",
    "n7 = TreeNode(7)\n",
    "\n",
    "n1.left = n2\n",
    "n1.right = n3\n",
    "n2.left = n4\n",
    "n2.right = n5\n",
    "n3.left = n6\n",
    "n3.right = n7\n",
    "\n",
    "def search(root:TreeNode, target) -> list:\n",
    "    \n",
    "    def _dfs(root:TreeNode|None, target) -> list:\n",
    "        \"\"\"深度优先搜索\"\"\"\n",
    "        if root is None:\n",
    "            return []\n",
    "        elif root.val == target:\n",
    "            return _dfs(root.left, target) + [root.val] + _dfs(root.right, target)\n",
    "        else:\n",
    "            return _dfs(root.left, target) + _dfs(root.right, target)\n",
    "    \n",
    "    def _dfs2(root:TreeNode|None, target, res:list) -> None:\n",
    "        if root is None:\n",
    "            return \n",
    "        elif root.val == target:\n",
    "            res.append(root.val)\n",
    "        _dfs2(root.left, target, res)\n",
    "        _dfs2(root.right, target, res)\n",
    "        \n",
    "            \n",
    "    \n",
    "    # return _dfs(root, target)\n",
    "    res = []\n",
    "    _dfs2(root, target, res)\n",
    "    return res\n",
    "    \n",
    "\n",
    "print(search(n1, 7))"
   ],
   "metadata": {
    "collapsed": false,
    "ExecuteTime": {
     "end_time": "2023-10-21T13:02:29.018371400Z",
     "start_time": "2023-10-21T13:02:29.014467300Z"
    }
   },
   "id": "31b418374323fc69"
  },
  {
   "cell_type": "markdown",
   "source": [
    "### Question 2:\n",
    "在二叉树中搜索所有值为 7 的节点，请返回根节点到这些节点的路径。"
   ],
   "metadata": {
    "collapsed": false
   },
   "id": "47a929e55e532d11"
  },
  {
   "cell_type": "code",
   "execution_count": 9,
   "outputs": [
    {
     "name": "stdout",
     "output_type": "stream",
     "text": [
      "[[7], [7, 2, 7], [7, 7], [7, 7, 7]]\n"
     ]
    }
   ],
   "source": [
    "def search(root:TreeNode, target) -> list[list]:\n",
    "    \n",
    "    def _dfs(root:TreeNode| None, target, path:list, res:list[list]) -> None:\n",
    "        if root is None:\n",
    "            return \n",
    "        path = path.copy()\n",
    "        path.append(root.val)\n",
    "        if root.val == target:\n",
    "            res.append(path)\n",
    "        _dfs(root.left, target, path, res)\n",
    "        _dfs(root.right, target, path, res)\n",
    "        \n",
    "    res = []\n",
    "    _dfs(root, target, [], res)\n",
    "    return res\n",
    "\n",
    "n1 = TreeNode(7)\n",
    "n2 = TreeNode(2)\n",
    "n3 = TreeNode(7)\n",
    "n4 = TreeNode(4)\n",
    "n5 = TreeNode(7)\n",
    "n6 = TreeNode(6)\n",
    "n7 = TreeNode(7)\n",
    "\n",
    "n1.left = n2\n",
    "n1.right = n3\n",
    "n2.left = n4\n",
    "n2.right = n5\n",
    "n3.left = n6\n",
    "n3.right = n7\n",
    "\n",
    "print(search(n1, 7))"
   ],
   "metadata": {
    "collapsed": false,
    "ExecuteTime": {
     "end_time": "2023-10-21T13:09:37.675898200Z",
     "start_time": "2023-10-21T13:09:37.671018500Z"
    }
   },
   "id": "3672a3b4ccb03af8"
  },
  {
   "cell_type": "markdown",
   "source": [
    "### Answer 3:\n",
    "在二叉树中搜索所有值为 7 的节点，请返回根节点到这些节点的路径，并要求路径中不包含值为 3 的节点。"
   ],
   "metadata": {
    "collapsed": false
   },
   "id": "2720e25df4c29b82"
  },
  {
   "cell_type": "code",
   "execution_count": 18,
   "outputs": [
    {
     "name": "stdout",
     "output_type": "stream",
     "text": [
      "[[7], [7, 2, 7]]\n"
     ]
    }
   ],
   "source": [
    "# 剪枝\n",
    "def search(root:TreeNode, target, exclude) -> list[list]:\n",
    "    \n",
    "    def _dfs(root:TreeNode| None, target, exclude, path:list, res:list[list]) -> None:\n",
    "        if root is None or (root.val == exclude):\n",
    "            return \n",
    "        path = path.copy()\n",
    "        path.append(root.val)\n",
    "        if root.val == target:\n",
    "            res.append(path)\n",
    "        _dfs(root.left, target, exclude, path, res)\n",
    "        _dfs(root.right, target, exclude, path, res)\n",
    "        \n",
    "    res = []\n",
    "    _dfs(root, target, exclude, [], res)\n",
    "    return res\n",
    "\n",
    "n1 = TreeNode(7)\n",
    "n2 = TreeNode(2)\n",
    "n3 = TreeNode(3)\n",
    "n4 = TreeNode(4)\n",
    "n5 = TreeNode(7)\n",
    "n6 = TreeNode(6)\n",
    "n7 = TreeNode(7)\n",
    "\n",
    "n1.left = n2\n",
    "n1.right = n3\n",
    "n2.left = n4\n",
    "n2.right = n5\n",
    "n3.left = n6\n",
    "n3.right = n7\n",
    "\n",
    "print(search(n1, 7, 3))"
   ],
   "metadata": {
    "collapsed": false,
    "ExecuteTime": {
     "end_time": "2023-10-21T13:17:11.692908300Z",
     "start_time": "2023-10-21T13:17:11.689004600Z"
    }
   },
   "id": "28d1a1dc8459e2f9"
  },
  {
   "cell_type": "code",
   "execution_count": null,
   "outputs": [],
   "source": [],
   "metadata": {
    "collapsed": false
   },
   "id": "539985e2d372d490"
  }
 ],
 "metadata": {
  "kernelspec": {
   "display_name": "Python 3",
   "language": "python",
   "name": "python3"
  },
  "language_info": {
   "codemirror_mode": {
    "name": "ipython",
    "version": 2
   },
   "file_extension": ".py",
   "mimetype": "text/x-python",
   "name": "python",
   "nbconvert_exporter": "python",
   "pygments_lexer": "ipython2",
   "version": "2.7.6"
  }
 },
 "nbformat": 4,
 "nbformat_minor": 5
}
