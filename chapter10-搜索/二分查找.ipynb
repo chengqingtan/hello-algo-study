{
 "cells": [
  {
   "cell_type": "markdown",
   "source": [
    "# 10.1 二分查找\n",
    "注意在这里写的二分查找有误，当查找小于nums[0]或大于nums[-1]时有错误"
   ],
   "metadata": {
    "collapsed": false
   },
   "id": "dc1b79e5631440b3"
  },
  {
   "cell_type": "code",
   "execution_count": 3,
   "outputs": [
    {
     "data": {
      "text/plain": "[1, 9, 14, 23, 24, 25, 35, 46, 65, 66, 67, 78, 78, 79, 82, 91, 96, 97, 98, 99]"
     },
     "execution_count": 3,
     "metadata": {},
     "output_type": "execute_result"
    }
   ],
   "source": [
    "nums:list[int] = [1, 9, 14, 23, 24, 25, 35, 46, 65, 66, 67, 78, 78, 79, 82, 91, 96, 97, 98, 99]\n",
    "nums"
   ],
   "metadata": {
    "collapsed": false,
    "ExecuteTime": {
     "end_time": "2023-10-21T08:01:00.879548700Z",
     "start_time": "2023-10-21T08:01:00.873692100Z"
    }
   },
   "id": "c2cb1a2945bdc97b"
  },
  {
   "cell_type": "code",
   "execution_count": 5,
   "outputs": [
    {
     "data": {
      "text/plain": "0"
     },
     "execution_count": 5,
     "metadata": {},
     "output_type": "execute_result"
    }
   ],
   "source": [
    "# 使用迭代实现的二分查找，保持 nums[left] <= val <= nums[right]\n",
    "def binary_search(nums:list[int], val:int) -> int:\n",
    "    \"\"\"二分查找，如果不存在这个值，则返回这个值应该插入的位置下标\"\"\"\n",
    "    \n",
    "    def _binary_search(nums:list[int], val:int, left:int, right:int) -> int:\n",
    "        if left >= right - 1:\n",
    "            return left if (nums[left] == val) else right\n",
    "        center = (left + right) // 2\n",
    "        if val <= nums[center]:\n",
    "            return _binary_search(nums, val, left, center)\n",
    "        else:\n",
    "            return _binary_search(nums, val, center, right)\n",
    "        \n",
    "    return _binary_search(nums, val, 0, len(nums) - 1)\n",
    "\n",
    "binary_search(nums, 1)"
   ],
   "metadata": {
    "collapsed": false,
    "ExecuteTime": {
     "end_time": "2023-10-21T08:01:03.516247300Z",
     "start_time": "2023-10-21T08:01:03.508384800Z"
    }
   },
   "id": "bd95e7fef0365485"
  },
  {
   "cell_type": "code",
   "execution_count": 7,
   "outputs": [
    {
     "data": {
      "text/plain": "7"
     },
     "execution_count": 7,
     "metadata": {},
     "output_type": "execute_result"
    }
   ],
   "source": [
    "# 使用循环实现的二分查找\n",
    "def binary_search(nums:list[int], val:int) -> int:\n",
    "    left = 0\n",
    "    right = len(nums) - 1\n",
    "    while left < right - 1:\n",
    "        center = (left + right) // 2\n",
    "        if val <= nums[center]:\n",
    "            right = center\n",
    "        else:\n",
    "            left = center\n",
    "    return left if (nums[left] == val) else right\n",
    "\n",
    "binary_search(nums, 46)"
   ],
   "metadata": {
    "collapsed": false,
    "ExecuteTime": {
     "end_time": "2023-10-21T08:11:17.413470800Z",
     "start_time": "2023-10-21T08:11:17.407594700Z"
    }
   },
   "id": "89e1853977bb4285"
  },
  {
   "cell_type": "code",
   "execution_count": null,
   "outputs": [],
   "source": [],
   "metadata": {
    "collapsed": false
   },
   "id": "2ebc32ad40a3d883"
  }
 ],
 "metadata": {
  "kernelspec": {
   "display_name": "Python 3",
   "language": "python",
   "name": "python3"
  },
  "language_info": {
   "codemirror_mode": {
    "name": "ipython",
    "version": 2
   },
   "file_extension": ".py",
   "mimetype": "text/x-python",
   "name": "python",
   "nbconvert_exporter": "python",
   "pygments_lexer": "ipython2",
   "version": "2.7.6"
  }
 },
 "nbformat": 4,
 "nbformat_minor": 5
}
