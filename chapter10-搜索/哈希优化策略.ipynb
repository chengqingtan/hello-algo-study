{
 "cells": [
  {
   "cell_type": "markdown",
   "source": [
    "# 10.4 哈希优化策略\n",
    "给定一个整数数组 nums 和一个目标元素 target ，请在数组中搜索“和”为 target 的两个元素，并返回它们的数组索引。返回任意一个解即可。"
   ],
   "metadata": {
    "collapsed": false
   },
   "id": "add1781fec1ad164"
  },
  {
   "cell_type": "markdown",
   "source": [
    "## Answer 1: "
   ],
   "metadata": {
    "collapsed": false
   },
   "id": "e422263761f3f7ca"
  },
  {
   "cell_type": "code",
   "execution_count": 23,
   "outputs": [
    {
     "name": "stdout",
     "output_type": "stream",
     "text": [
      "(0, 7)\n"
     ]
    }
   ],
   "source": [
    "def answer1(nums:list[int], target:int):\n",
    "    for i in range(len(nums)):\n",
    "        for j in range(len(nums)):\n",
    "            if (i != j) and (nums[i] + nums[j] == target):\n",
    "                return i, j\n",
    "    return -1, -1\n",
    "\n",
    "l1 = [1, 9, 14, 23, 24, 25, 35, 46, 46, 66, 67, 78, 78, 79, 82, 91, 96, 97, 98, 99]\n",
    "print(answer1(l1, 47))"
   ],
   "metadata": {
    "collapsed": false,
    "ExecuteTime": {
     "end_time": "2023-10-20T09:41:07.666021200Z",
     "start_time": "2023-10-20T09:41:07.651549100Z"
    }
   },
   "id": "23517aa74bda21e8"
  },
  {
   "cell_type": "markdown",
   "source": [
    "## Answer 2: 以空间换时间"
   ],
   "metadata": {
    "collapsed": false
   },
   "id": "d5f4a349969db68b"
  },
  {
   "cell_type": "code",
   "execution_count": 27,
   "outputs": [
    {
     "name": "stdout",
     "output_type": "stream",
     "text": [
      "(0, 19)\n"
     ]
    }
   ],
   "source": [
    "def answer2(nums:list[int], target:int):\n",
    "    # 先构建一个哈希表, dict(nums[i], i)\n",
    "    ht = dict()\n",
    "    for i in range(len(nums)):\n",
    "        ht[nums[i]] = i\n",
    "    # 从哈希表内查询\n",
    "    for i in range(len(nums)):\n",
    "        if ht.get(target - nums[i]) is not None:\n",
    "            return (i, ht.get(target - nums[i])) \n",
    "    return -1, -1\n",
    "\n",
    "l2 = [1, 9, 14, 23, 24, 25, 35, 46, 46, 66, 67, 78, 78, 79, 82, 91, 96, 97, 98, 99]\n",
    "print(answer2(l2, 100))"
   ],
   "metadata": {
    "collapsed": false,
    "ExecuteTime": {
     "end_time": "2023-10-20T09:43:47.641321500Z",
     "start_time": "2023-10-20T09:43:47.632019500Z"
    }
   },
   "id": "e0ea7f632c6443c6"
  },
  {
   "cell_type": "code",
   "execution_count": null,
   "outputs": [],
   "source": [],
   "metadata": {
    "collapsed": false
   },
   "id": "f30b6ac3d8cd2f1d"
  }
 ],
 "metadata": {
  "kernelspec": {
   "display_name": "Python 3",
   "language": "python",
   "name": "python3"
  },
  "language_info": {
   "codemirror_mode": {
    "name": "ipython",
    "version": 2
   },
   "file_extension": ".py",
   "mimetype": "text/x-python",
   "name": "python",
   "nbconvert_exporter": "python",
   "pygments_lexer": "ipython2",
   "version": "2.7.6"
  }
 },
 "nbformat": 4,
 "nbformat_minor": 5
}
