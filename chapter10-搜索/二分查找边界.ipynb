{
 "cells": [
  {
   "cell_type": "markdown",
   "source": [
    "# 10.3 二分查找边界"
   ],
   "metadata": {
    "collapsed": false
   },
   "id": "5ac8213da16f78a6"
  },
  {
   "cell_type": "markdown",
   "source": [
    "## 10.3.1 查找左边界\n",
    "Question:\n",
    "给定一个长度为 n 的有序数组 nums ，数组可能包含重复元素。请返回数组中最左一个元素 target 的索引。若数组中不包含该元素，则返回 -1。"
   ],
   "metadata": {
    "collapsed": false
   },
   "id": "8b4de8b5ab4967b9"
  },
  {
   "cell_type": "code",
   "execution_count": 2,
   "outputs": [
    {
     "name": "stdout",
     "output_type": "stream",
     "text": [
      "7\n",
      "-1\n"
     ]
    }
   ],
   "source": [
    "def binary_search_left_edge(nums: list[int], target: int) -> int:\n",
    "    \"\"\"二分法循环写法查找左边界\"\"\"\n",
    "    left = 0\n",
    "    right = len(nums) - 1\n",
    "    while left < right - 1:\n",
    "        center = (left + right) // 2\n",
    "        if target <= nums[center]:\n",
    "            right = center\n",
    "        else:\n",
    "            left = center\n",
    "    if nums[left] == target:\n",
    "        return left\n",
    "    elif nums[right] == target:\n",
    "        return right\n",
    "    else:\n",
    "        return -1\n",
    "\n",
    "\n",
    "l1 = [1, 9, 14, 23, 24, 25, 35, 46, 46, 66, 67, 78, 78, 79, 82, 91, 96, 97, 98, 99]\n",
    "print(binary_search_left_edge(l1, 46))\n",
    "print(binary_search_left_edge(l1, 47))"
   ],
   "metadata": {
    "collapsed": false,
    "ExecuteTime": {
     "end_time": "2023-10-21T08:11:02.119705100Z",
     "start_time": "2023-10-21T08:11:02.114824900Z"
    }
   },
   "id": "12228e75c20dcb4c"
  },
  {
   "cell_type": "markdown",
   "source": [
    "## 10.3.2 查找右边界\n"
   ],
   "metadata": {
    "collapsed": false
   },
   "id": "7ebae19bb9a032af"
  },
  {
   "cell_type": "code",
   "execution_count": 36,
   "outputs": [
    {
     "name": "stdout",
     "output_type": "stream",
     "text": [
      "0\n",
      "8\n",
      "19\n",
      "-1\n"
     ]
    }
   ],
   "source": [
    "def binary_search_right_edge(nums: list[int], target: int) -> int:\n",
    "    \"\"\"二分法迭代写法查找右边界\"\"\"\n",
    "    \n",
    "    def _binary_search_right_edge(nums: list[int], target: int, left: int, right: int) -> int:\n",
    "        if left >= right - 1:\n",
    "            if target == nums[right]:\n",
    "                return right\n",
    "            elif target == nums[left]:\n",
    "                return left\n",
    "            else:\n",
    "                return -1\n",
    "        center = (left + right) // 2\n",
    "        return _binary_search_right_edge(nums, target, left, center) if (target < nums[center]) else _binary_search_right_edge(nums, target, center, right)\n",
    "    \n",
    "    return _binary_search_right_edge(nums, target, 0, len(nums) - 1)\n",
    "\n",
    "l2 = [1, 9, 14, 23, 24, 25, 35, 46, 46, 66, 67, 78, 78, 79, 82, 91, 96, 97, 98, 99]\n",
    "print(binary_search_right_edge(l2, 1))\n",
    "print(binary_search_right_edge(l2, 46))\n",
    "print(binary_search_right_edge(l2, 99))\n",
    "print(binary_search_right_edge(l2, 47))"
   ],
   "metadata": {
    "collapsed": false,
    "ExecuteTime": {
     "end_time": "2023-10-20T08:56:45.004894400Z",
     "start_time": "2023-10-20T08:56:44.978157100Z"
    }
   },
   "id": "21c214bf772fbc0e"
  },
  {
   "cell_type": "code",
   "execution_count": null,
   "outputs": [],
   "source": [],
   "metadata": {
    "collapsed": false
   },
   "id": "1b6d0e6b7fac3899"
  }
 ],
 "metadata": {
  "kernelspec": {
   "display_name": "Python 3",
   "language": "python",
   "name": "python3"
  },
  "language_info": {
   "codemirror_mode": {
    "name": "ipython",
    "version": 2
   },
   "file_extension": ".py",
   "mimetype": "text/x-python",
   "name": "python",
   "nbconvert_exporter": "python",
   "pygments_lexer": "ipython2",
   "version": "2.7.6"
  }
 },
 "nbformat": 4,
 "nbformat_minor": 5
}
