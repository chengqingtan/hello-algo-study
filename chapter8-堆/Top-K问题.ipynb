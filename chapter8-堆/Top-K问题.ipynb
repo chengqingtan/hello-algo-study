{
 "cells": [
  {
   "cell_type": "markdown",
   "source": [
    "# 8.3 Top-K问题"
   ],
   "metadata": {
    "collapsed": false
   },
   "id": "b74b5f3bfc28dff9"
  },
  {
   "cell_type": "markdown",
   "source": [
    "## Question:\n",
    "给定一个长度为 n 无序数组 nums ，请返回数组中前 k 大的元素。"
   ],
   "metadata": {
    "collapsed": false
   },
   "id": "a424a67eeda24357"
  },
  {
   "cell_type": "code",
   "execution_count": 31,
   "outputs": [
    {
     "data": {
      "text/plain": "[1, 7, 1, 1, 2, 8, 8, 3, 7, 6]"
     },
     "execution_count": 31,
     "metadata": {},
     "output_type": "execute_result"
    }
   ],
   "source": [
    "import random\n",
    "l1 = [random.randint(1, 10) for _ in range(10)]\n",
    "l1"
   ],
   "metadata": {
    "collapsed": false,
    "ExecuteTime": {
     "end_time": "2023-10-19T10:01:44.614122900Z",
     "start_time": "2023-10-19T10:01:44.608692700Z"
    }
   },
   "id": "1e0790291a7d387a"
  },
  {
   "cell_type": "markdown",
   "source": [
    "## Answer 1:\n",
    "建立最大堆，并执行k次pop"
   ],
   "metadata": {
    "collapsed": false
   },
   "id": "c723b10d206ba41f"
  },
  {
   "cell_type": "code",
   "execution_count": 32,
   "outputs": [
    {
     "name": "stdout",
     "output_type": "stream",
     "text": [
      "8 8 7 "
     ]
    }
   ],
   "source": [
    "# python库内没有大顶堆，只能给所有元素取相反数\n",
    "import heapq\n",
    "h1 = l1.copy()\n",
    "h1 = [-h1[i] for i in range(len(h1))]\n",
    "heapq.heapify(h1)\n",
    "for _ in range(3):\n",
    "    val = 0 - heapq.heappop(h1)\n",
    "    print(val, end=' ')"
   ],
   "metadata": {
    "collapsed": false,
    "ExecuteTime": {
     "end_time": "2023-10-19T10:01:45.156195600Z",
     "start_time": "2023-10-19T10:01:45.151631700Z"
    }
   },
   "id": "c199c47cb136de3c"
  },
  {
   "cell_type": "markdown",
   "source": [
    "## Answer 2:\n",
    "建立大小为k的最小堆，比堆顶元素大则入堆，堆顶元素出堆"
   ],
   "metadata": {
    "collapsed": false
   },
   "id": "e2c3e65fe6897cdf"
  },
  {
   "cell_type": "code",
   "execution_count": 33,
   "outputs": [
    {
     "data": {
      "text/plain": "[7, 8, 8]"
     },
     "execution_count": 33,
     "metadata": {},
     "output_type": "execute_result"
    }
   ],
   "source": [
    "import heapq\n",
    "h2 = l1.copy()[:3]\n",
    "heapq.heapify(h2)\n",
    "for i in range(3, len(l1)):\n",
    "    if l1[i] > h2[0]:\n",
    "        h2[0] = l1[i]\n",
    "        heapq.heapify(h2)\n",
    "h2"
   ],
   "metadata": {
    "collapsed": false,
    "ExecuteTime": {
     "end_time": "2023-10-19T10:01:46.179096300Z",
     "start_time": "2023-10-19T10:01:46.171955900Z"
    }
   },
   "id": "dbf2e3b4471da2de"
  },
  {
   "cell_type": "code",
   "execution_count": null,
   "outputs": [],
   "source": [],
   "metadata": {
    "collapsed": false
   },
   "id": "2d331e96b11db7cf"
  }
 ],
 "metadata": {
  "kernelspec": {
   "display_name": "Python 3",
   "language": "python",
   "name": "python3"
  },
  "language_info": {
   "codemirror_mode": {
    "name": "ipython",
    "version": 2
   },
   "file_extension": ".py",
   "mimetype": "text/x-python",
   "name": "python",
   "nbconvert_exporter": "python",
   "pygments_lexer": "ipython2",
   "version": "2.7.6"
  }
 },
 "nbformat": 4,
 "nbformat_minor": 5
}
