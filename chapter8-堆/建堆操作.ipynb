{
 "cells": [
  {
   "cell_type": "markdown",
   "source": [
    "# 8.2 建堆操作"
   ],
   "metadata": {
    "collapsed": false
   },
   "id": "3ac628c43f0487ab"
  },
  {
   "cell_type": "markdown",
   "source": [
    "## 1. 通过入堆实现 O(n * log n)"
   ],
   "metadata": {
    "collapsed": false
   },
   "id": "60bab4901f3f5cac"
  },
  {
   "cell_type": "code",
   "execution_count": 10,
   "outputs": [
    {
     "data": {
      "text/plain": "[1, 3, 5, 6, 5, 10, 7, 7, 7, 10]"
     },
     "execution_count": 10,
     "metadata": {},
     "output_type": "execute_result"
    }
   ],
   "source": [
    "import heapq\n",
    "import random\n",
    "\n",
    "heap1: list[int] = []\n",
    "\n",
    "for i in range(10):\n",
    "    heapq.heappush(heap1, random.randint(1, 10))\n",
    "\n",
    "heap1"
   ],
   "metadata": {
    "collapsed": false,
    "ExecuteTime": {
     "end_time": "2023-10-19T09:16:58.905949900Z",
     "start_time": "2023-10-19T09:16:58.900930700Z"
    }
   },
   "id": "e59141a5a41d71b3"
  },
  {
   "cell_type": "markdown",
   "source": [
    "## 2. 倒序遍历数组，从顶至底堆化"
   ],
   "metadata": {
    "collapsed": false
   },
   "id": "bb8b9d4da65a1f4f"
  },
  {
   "cell_type": "code",
   "execution_count": 34,
   "outputs": [
    {
     "data": {
      "text/plain": "[1, 2, 4, 3, 6, 5, 8, 10, 7, 9]"
     },
     "execution_count": 34,
     "metadata": {},
     "output_type": "execute_result"
    }
   ],
   "source": [
    "def get_left_child(idx: int) -> int:\n",
    "    return 2 * idx + 1\n",
    "\n",
    "\n",
    "def get_right_child(idx: int) -> int:\n",
    "    return 2 * idx + 2\n",
    "\n",
    "\n",
    "def get_parent(idx: int) -> int:\n",
    "    return (idx - 1) // 2\n",
    "\n",
    "\n",
    "def swap(heap: list, i: int, j: int):\n",
    "    temp = heap[i]\n",
    "    heap[i] = heap[j]\n",
    "    heap[j] = temp\n",
    "\n",
    "\n",
    "def sift_down(heap: list, idx: int):\n",
    "    while idx <= get_parent(len(heap) - 1):\n",
    "        left = get_left_child(idx)\n",
    "        right = get_right_child(idx)\n",
    "        if right >= len(heap):\n",
    "            # 右子节点不存在\n",
    "            if heap[idx] > heap[left]:\n",
    "                swap(heap, idx, left)\n",
    "            idx = left\n",
    "        else:\n",
    "            if heap[left] < heap[right]:\n",
    "                if heap[idx] > heap[left]:\n",
    "                    swap(heap, idx, left)\n",
    "                idx = left\n",
    "            else:\n",
    "                if heap[idx] > heap[right]:\n",
    "                    swap(heap, idx, right)\n",
    "                idx = right\n",
    "\n",
    "heap2 = [i for i in range(10, 0, -1)]\n",
    "for i in range(get_parent(len(heap2) - 1) + 1)[::-1]:\n",
    "    sift_down(heap2, i)\n",
    "heap2"
   ],
   "metadata": {
    "collapsed": false,
    "ExecuteTime": {
     "end_time": "2023-10-19T09:38:53.560938400Z",
     "start_time": "2023-10-19T09:38:53.552680100Z"
    }
   },
   "id": "a3467420b4bc648f"
  },
  {
   "cell_type": "code",
   "execution_count": null,
   "outputs": [],
   "source": [],
   "metadata": {
    "collapsed": false
   },
   "id": "e32724083f701b"
  }
 ],
 "metadata": {
  "kernelspec": {
   "display_name": "Python 3",
   "language": "python",
   "name": "python3"
  },
  "language_info": {
   "codemirror_mode": {
    "name": "ipython",
    "version": 2
   },
   "file_extension": ".py",
   "mimetype": "text/x-python",
   "name": "python",
   "nbconvert_exporter": "python",
   "pygments_lexer": "ipython2",
   "version": "2.7.6"
  }
 },
 "nbformat": 4,
 "nbformat_minor": 5
}
