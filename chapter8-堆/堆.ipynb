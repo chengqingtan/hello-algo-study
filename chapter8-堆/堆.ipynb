{
 "cells": [
  {
   "cell_type": "markdown",
   "source": [
    "# 8.1 堆 - heap"
   ],
   "metadata": {
    "collapsed": false
   },
   "id": "79ca2d24d8ee084d"
  },
  {
   "cell_type": "code",
   "execution_count": 44,
   "outputs": [
    {
     "name": "stdout",
     "output_type": "stream",
     "text": [
      "[2, 4, 3]\n"
     ]
    }
   ],
   "source": [
    "# 使用列表实现的最小堆\n",
    "class MinHeap(object):\n",
    "    \"\"\"最小堆，使用列表实现\"\"\"\n",
    "\n",
    "    # TODO: push, pop, peek, size, is_empty()\n",
    "\n",
    "    def __init__(self):\n",
    "        self._heap: list = list()\n",
    "\n",
    "    def __len__(self):\n",
    "        return len(self._heap)\n",
    "\n",
    "    def __str__(self):\n",
    "        return self._heap.__str__()\n",
    "\n",
    "    def _swap(self, i: int, j: int):\n",
    "        \"\"\"交换堆中下标为i, j两处的值\"\"\"\n",
    "        temp = self._heap[i]\n",
    "        self._heap[i] = self._heap[j]\n",
    "        self._heap[j] = temp\n",
    "        \n",
    "    def _sift_up(self, idx: int):\n",
    "        \"\"\"将堆中下表为idx的元素冒泡置顶\"\"\"\n",
    "        while idx > 0:\n",
    "            parent_idx = self._get_parent_idx(idx)\n",
    "            if self._heap[parent_idx] > self._heap[idx]:\n",
    "                self._swap(parent_idx, idx)\n",
    "            idx = parent_idx\n",
    "            \n",
    "    def _sift_down(self):\n",
    "        \"\"\"将堆顶元素从顶至底堆化\"\"\"\n",
    "        curr_idx = 0\n",
    "        while curr_idx <= self._get_parent_idx(self.size() - 1):\n",
    "            child1_idx = self._get_left_child_idx(curr_idx)\n",
    "            child2_idx = self._get_right_child_idx(curr_idx)\n",
    "            if child2_idx >= self.size():\n",
    "                # child2下标越界，不存在\n",
    "                self._swap(curr_idx, child1_idx)\n",
    "                curr_idx = child1_idx\n",
    "            else:\n",
    "                # 将 curr_idx与两个子节点中更小的一个进行替换\n",
    "                if self._heap[child1_idx] < self._heap[child2_idx]:\n",
    "                    self._swap(curr_idx, child1_idx)\n",
    "                    curr_idx = child1_idx\n",
    "                else:\n",
    "                    self._swap(curr_idx, child2_idx)\n",
    "                    curr_idx = child2_idx\n",
    "            \n",
    "\n",
    "    def _get_parent_idx(self, idx: int) -> int:\n",
    "        # 下表为 i 的父节点的的下表为 (i - 1) / 2 ，向下取整，用//运算符\n",
    "        return (idx - 1) // 2\n",
    "    \n",
    "    def _get_left_child_idx(self, idx: int) -> int:\n",
    "        return 2 * idx + 1\n",
    "\n",
    "\n",
    "    def _get_right_child_idx(self, idx: int) -> int:\n",
    "        return 2 * idx + 2\n",
    "\n",
    "    def push(self, val):\n",
    "        # 将新的值添加到数组末尾\n",
    "        self._heap.append(val)\n",
    "        # 将新加值置顶\n",
    "        self._sift_up(len(self._heap) - 1)\n",
    "\n",
    "    def pop(self):\n",
    "        \"\"\"移除堆顶元素，并返回\"\"\"\n",
    "        return self._heap.pop(0)\n",
    "    \n",
    "    def better_pop(self):\n",
    "        \"\"\"优化pop方法，交换堆顶元素与堆中最后一个元素，移除最后一个元素后，再将堆顶元素从顶至底堆化\"\"\"\n",
    "        self._swap(0, self.size() - 1)\n",
    "        val = self._heap.pop()\n",
    "        self._sift_down()\n",
    "        return val\n",
    "\n",
    "    def peek(self):\n",
    "        return self._heap[0] if len(self._heap) != 0 else None\n",
    "\n",
    "    def size(self) -> int:\n",
    "        return self.__len__()\n",
    "\n",
    "    def is_empty(self) -> bool:\n",
    "        return self.size() == 0\n",
    "\n",
    "\n",
    "h1 = MinHeap()\n",
    "h1.push(4)\n",
    "h1.push(3)\n",
    "h1.push(2)\n",
    "h1.push(1)\n",
    "h1.better_pop()\n",
    "print(h1)\n"
   ],
   "metadata": {
    "collapsed": false,
    "ExecuteTime": {
     "end_time": "2023-10-18T16:10:44.814608700Z",
     "start_time": "2023-10-18T16:10:44.809699900Z"
    }
   },
   "id": "3f8bd50687ed8eea"
  },
  {
   "cell_type": "code",
   "execution_count": 33,
   "outputs": [],
   "source": [
    "def get_parent_idx(idx: int) -> int:\n",
    "    return (idx - 1) // 2\n",
    "\n",
    "\n",
    "def get_left_child_idx(idx: int) -> int:\n",
    "    return 2 * idx + 1\n",
    "\n",
    "\n",
    "def get_right_child_idx(idx: int) -> int:\n",
    "    return 2 * idx + 2"
   ],
   "metadata": {
    "collapsed": false,
    "ExecuteTime": {
     "end_time": "2023-10-18T15:50:15.532987400Z",
     "start_time": "2023-10-18T15:50:15.531008Z"
    }
   },
   "id": "e8b6019b47eac465"
  },
  {
   "cell_type": "code",
   "execution_count": null,
   "outputs": [],
   "source": [],
   "metadata": {
    "collapsed": false
   },
   "id": "ac7fe69328c6c9c6"
  }
 ],
 "metadata": {
  "kernelspec": {
   "display_name": "Python 3",
   "language": "python",
   "name": "python3"
  },
  "language_info": {
   "codemirror_mode": {
    "name": "ipython",
    "version": 2
   },
   "file_extension": ".py",
   "mimetype": "text/x-python",
   "name": "python",
   "nbconvert_exporter": "python",
   "pygments_lexer": "ipython2",
   "version": "2.7.6"
  }
 },
 "nbformat": 4,
 "nbformat_minor": 5
}
