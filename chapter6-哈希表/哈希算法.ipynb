{
 "cells": [
  {
   "cell_type": "markdown",
   "source": [
    "## 6.3.2 哈希算法的设计"
   ],
   "metadata": {
    "collapsed": false
   },
   "id": "6a068ffe68d05f8e"
  },
  {
   "cell_type": "markdown",
   "source": [
    "### 1.加法哈希"
   ],
   "metadata": {
    "collapsed": false
   },
   "id": "97eef1d77cc99c25"
  },
  {
   "cell_type": "code",
   "execution_count": 6,
   "outputs": [
    {
     "data": {
      "text/plain": "294"
     },
     "execution_count": 6,
     "metadata": {},
     "output_type": "execute_result"
    }
   ],
   "source": [
    "def add_hash(key: str) -> int:\n",
    "    \"\"\"\n",
    "    加法哈希：对输入的每个字符的 ASCII 码进行相加，将得到的总和作为哈希值。\n",
    "    \"\"\"\n",
    "    _hash = 0\n",
    "    modulus = 1e9 + 7  # 最大质数\n",
    "    for c in key:\n",
    "        _hash += ord(c)\n",
    "    return int(_hash % modulus)\n",
    "\n",
    "add_hash('abc')"
   ],
   "metadata": {
    "collapsed": false,
    "ExecuteTime": {
     "end_time": "2023-10-17T15:18:04.325785300Z",
     "start_time": "2023-10-17T15:18:04.319926700Z"
    }
   },
   "id": "6f2706ce22a7480c"
  },
  {
   "cell_type": "markdown",
   "source": [
    "### 2.乘法哈希"
   ],
   "metadata": {
    "collapsed": false
   },
   "id": "272c34c710cdc0d6"
  },
  {
   "cell_type": "code",
   "execution_count": 7,
   "outputs": [
    {
     "data": {
      "text/plain": "96354"
     },
     "execution_count": 7,
     "metadata": {},
     "output_type": "execute_result"
    }
   ],
   "source": [
    "def mul_hash(key: str) -> int:\n",
    "    \"\"\"\n",
    "    乘法哈希：利用了乘法的不相关性，每轮乘以一个常数，将各个字符的 ASCII 码累积到哈希值中。\n",
    "    \"\"\"\n",
    "    _hash = 0\n",
    "    modulus = 1e9 + 7\n",
    "    for c in key:\n",
    "        _hash = 31 * _hash + ord(c)\n",
    "    return int(_hash % modulus)\n",
    "\n",
    "mul_hash('abc')"
   ],
   "metadata": {
    "collapsed": false,
    "ExecuteTime": {
     "end_time": "2023-10-17T15:20:05.244059400Z",
     "start_time": "2023-10-17T15:20:05.235879400Z"
    }
   },
   "id": "5d7cff2c56fb4e4f"
  },
  {
   "cell_type": "markdown",
   "source": [
    "### 3.异或哈希"
   ],
   "metadata": {
    "collapsed": false
   },
   "id": "ef39efe077429eb9"
  },
  {
   "cell_type": "code",
   "execution_count": 8,
   "outputs": [
    {
     "data": {
      "text/plain": "96"
     },
     "execution_count": 8,
     "metadata": {},
     "output_type": "execute_result"
    }
   ],
   "source": [
    "def xor_hash(key: str) -> int:\n",
    "    \"\"\"\n",
    "    异或哈希：将输入数据的每个元素通过异或操作累积到一个哈希值中。\n",
    "    \"\"\"\n",
    "    _hash = 0\n",
    "    modulus = 1e9 + 7\n",
    "    for c in key:\n",
    "        _hash ^= ord(c)\n",
    "    return int(_hash % modulus)\n",
    "\n",
    "xor_hash('abc')"
   ],
   "metadata": {
    "collapsed": false,
    "ExecuteTime": {
     "end_time": "2023-10-17T15:22:02.769051900Z",
     "start_time": "2023-10-17T15:22:02.757497400Z"
    }
   },
   "id": "f2988a8311423861"
  },
  {
   "cell_type": "markdown",
   "source": [
    "### 4.旋转哈希"
   ],
   "metadata": {
    "collapsed": false
   },
   "id": "5f75c5ee01684169"
  },
  {
   "cell_type": "code",
   "execution_count": 10,
   "outputs": [
    {
     "data": {
      "text/plain": "26435"
     },
     "execution_count": 10,
     "metadata": {},
     "output_type": "execute_result"
    }
   ],
   "source": [
    "def rot_hash(key: str) -> int:\n",
    "    \"\"\"\n",
    "    旋转哈希：将每个字符的 ASCII 码累积到一个哈希值中，每次累积之前都会对哈希值进行旋转操作。\n",
    "    \"\"\"\n",
    "    _hash = 0\n",
    "    modulus = 1e9 + 7\n",
    "    for c in key:\n",
    "        _hash = (_hash << 4) ^ (_hash >> 28) ^ ord(c)\n",
    "    return int(_hash % modulus)\n",
    "\n",
    "rot_hash('abc')"
   ],
   "metadata": {
    "collapsed": false,
    "ExecuteTime": {
     "end_time": "2023-10-17T15:23:31.616255Z",
     "start_time": "2023-10-17T15:23:31.611375300Z"
    }
   },
   "id": "5ae9ec97837a36a2"
  },
  {
   "cell_type": "code",
   "execution_count": 15,
   "outputs": [],
   "source": [],
   "metadata": {
    "collapsed": false,
    "ExecuteTime": {
     "end_time": "2023-10-17T15:25:43.616870200Z",
     "start_time": "2023-10-17T15:25:43.609877Z"
    }
   },
   "id": "f39408aef3a879b2"
  },
  {
   "cell_type": "code",
   "execution_count": null,
   "outputs": [],
   "source": [],
   "metadata": {
    "collapsed": false
   },
   "id": "1c6c2c1bb00bfbf5"
  }
 ],
 "metadata": {
  "kernelspec": {
   "display_name": "Python 3",
   "language": "python",
   "name": "python3"
  },
  "language_info": {
   "codemirror_mode": {
    "name": "ipython",
    "version": 2
   },
   "file_extension": ".py",
   "mimetype": "text/x-python",
   "name": "python",
   "nbconvert_exporter": "python",
   "pygments_lexer": "ipython2",
   "version": "2.7.6"
  }
 },
 "nbformat": 4,
 "nbformat_minor": 5
}
