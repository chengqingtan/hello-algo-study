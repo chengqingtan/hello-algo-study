{
 "cells": [
  {
   "cell_type": "markdown",
   "source": [
    "## 6.2 哈希冲突"
   ],
   "metadata": {
    "collapsed": false
   },
   "id": "1053a2c948332aec"
  },
  {
   "cell_type": "markdown",
   "source": [
    "## 6.2.1 链式地址解决哈希冲突"
   ],
   "metadata": {
    "collapsed": false
   },
   "id": "a724c7194004d982"
  },
  {
   "cell_type": "code",
   "execution_count": 71,
   "outputs": [],
   "source": [
    "class Pair:\n",
    "    def __init__(self, key, val):\n",
    "        self.key = key\n",
    "        self.val = val\n",
    "\n",
    "    def __str__(self):\n",
    "        return \"{}: {}\".format(self.key, self.val)\n",
    "\n",
    "    def __repr__(self):\n",
    "        return self.__str__()\n",
    "\n",
    "    def __hash__(self):\n",
    "        return hash(self.key)\n",
    "\n",
    "\n",
    "class SeperatedChainingHashTable(object):\n",
    "    def __init__(self, capacity: int):\n",
    "        # self._bucket:list[list[Pair]] = [[]] * capacity  //错误写法，会导致数组内每个数组实际上是同一个数组\n",
    "        self._bucket: list[list[Pair]] = [[] for _ in range(capacity)]\n",
    "        self._capacity: int = capacity\n",
    "        self._len: int = 0\n",
    "\n",
    "    def __len__(self):\n",
    "        return self._len\n",
    "\n",
    "    def __str__(self):\n",
    "        # return [self._bucket[i].__str__() for i in range(len(self._bucket))].__str__()\n",
    "        return self._bucket.__str__()\n",
    "\n",
    "    def __repr__(self):\n",
    "        return self._bucket.__str__()\n",
    "\n",
    "    def hash_func(self, key) -> int:\n",
    "        return hash(key) % self._capacity\n",
    "\n",
    "    def put(self, key, val):\n",
    "        pair = Pair(key, val)\n",
    "        index = self.hash_func(key)\n",
    "        self._len += 1\n",
    "        self._bucket[index].append(pair)\n",
    "        # 如果负载因子大于2/3，则进行扩容操作\n",
    "        if float(self._len) / self._capacity > 2. / 3.:\n",
    "            self.extend()\n",
    "\n",
    "    def get(self, key):\n",
    "        index = self.hash_func(key)\n",
    "        if len(self._bucket[index]) == 0:\n",
    "            return None\n",
    "        else:\n",
    "            for p in self._bucket[index]:\n",
    "                if p.key == key:\n",
    "                    return p.val\n",
    "            return None\n",
    "\n",
    "    def remove(self, key):\n",
    "        index = self.hash_func(key)\n",
    "        if len(self._bucket[index]) == 0:\n",
    "            return None\n",
    "        else:\n",
    "            for i in range(len(self._bucket[index])):\n",
    "                if self._bucket[index][i].key == key:\n",
    "                    p = self._bucket[index].pop(i)\n",
    "                    self._len -= 1\n",
    "                    return p.val\n",
    "            return None\n",
    "\n",
    "    def extend(self):\n",
    "        \"\"\"\n",
    "        对哈希表进行扩容，扩容为原来的两倍\n",
    "        \"\"\"\n",
    "        self._capacity = self._capacity * 2\n",
    "        _bucket = self._bucket\n",
    "        self._bucket = [[] for _ in range(self._capacity)]\n",
    "        self._len = 0\n",
    "        for key, val in [(p.key, p.val) for i in range(len(_bucket)) for p in _bucket[i]]:\n",
    "            self.put(key, val)\n",
    "\n",
    "    def keys(self):\n",
    "        res = []\n",
    "        for i in range(len(self._bucket)):\n",
    "            for p in self._bucket[i]:\n",
    "                res.append(p.key)\n",
    "        return res\n",
    "        # return [p.key for i in range(len(self._bucket)) for p in self._bucket[i]]\n",
    "\n",
    "    def values(self):\n",
    "        return [p.val for i in range(len(self._bucket)) for p in self._bucket[i]]\n",
    "\n",
    "    def items(self):\n",
    "        return [(p.key, p.val) for i in range(len(self._bucket)) for p in self._bucket[i]]"
   ],
   "metadata": {
    "collapsed": false,
    "ExecuteTime": {
     "end_time": "2023-10-17T13:33:51.922698500Z",
     "start_time": "2023-10-17T13:33:51.918794200Z"
    }
   },
   "id": "841e7dbca899df40"
  },
  {
   "cell_type": "code",
   "execution_count": 72,
   "outputs": [
    {
     "data": {
      "text/plain": "[[], [1: 张三], [2: 李四], [3: 王五], [4: 赵六], [], [], [], [], [], [], [11: 离心], [], [], [], [], [], [], [], []]"
     },
     "execution_count": 72,
     "metadata": {},
     "output_type": "execute_result"
    }
   ],
   "source": [
    "seperatedChainingHashTable = SeperatedChainingHashTable(capacity=10)\n",
    "seperatedChainingHashTable.put(1, \"张三\")\n",
    "seperatedChainingHashTable.put(2, \"李四\")\n",
    "seperatedChainingHashTable.put(3, \"王五\")\n",
    "seperatedChainingHashTable.put(4, \"赵六\")\n",
    "seperatedChainingHashTable.put(11, '离心')\n",
    "seperatedChainingHashTable.put(21, '李白')\n",
    "seperatedChainingHashTable.remove(21)\n",
    "# seperatedChainingHashTable.get(11)\n",
    "# len(seperatedChainingHashTable)\n",
    "# 扩容extend\n",
    "seperatedChainingHashTable.extend()\n",
    "seperatedChainingHashTable"
   ],
   "metadata": {
    "collapsed": false,
    "ExecuteTime": {
     "end_time": "2023-10-17T13:33:52.084674900Z",
     "start_time": "2023-10-17T13:33:52.078818Z"
    }
   },
   "id": "ba89edf3d3c6b0db"
  },
  {
   "cell_type": "code",
   "execution_count": 73,
   "outputs": [
    {
     "data": {
      "text/plain": "[[1], [1], [1], [1], [1], [1], [1], [1], [1], [1]]"
     },
     "execution_count": 73,
     "metadata": {},
     "output_type": "execute_result"
    }
   ],
   "source": [
    "_bucket = [[]] * 10\n",
    "_bucket[1].append(1)\n",
    "_bucket"
   ],
   "metadata": {
    "collapsed": false,
    "ExecuteTime": {
     "end_time": "2023-10-17T13:33:52.246866300Z",
     "start_time": "2023-10-17T13:33:52.241443200Z"
    }
   },
   "id": "2503a96763d94afa"
  },
  {
   "cell_type": "code",
   "execution_count": 74,
   "outputs": [
    {
     "data": {
      "text/plain": "[[], [1], [], [], [], [], [], [], [], []]"
     },
     "execution_count": 74,
     "metadata": {},
     "output_type": "execute_result"
    }
   ],
   "source": [
    "_bucket = [[] for _ in range(10)]\n",
    "_bucket[1].append(1)\n",
    "_bucket"
   ],
   "metadata": {
    "collapsed": false,
    "ExecuteTime": {
     "end_time": "2023-10-17T13:33:52.444088100Z",
     "start_time": "2023-10-17T13:33:52.440184700Z"
    }
   },
   "id": "44c6ad66f60df934"
  },
  {
   "cell_type": "markdown",
   "source": [
    "## 6.2.2 开发寻址"
   ],
   "metadata": {
    "collapsed": false
   },
   "id": "55727c45fdf413b"
  },
  {
   "cell_type": "markdown",
   "source": [
    "### 1.线性探测"
   ],
   "metadata": {
    "collapsed": false
   },
   "id": "76724ef28046b77c"
  },
  {
   "cell_type": "code",
   "execution_count": 105,
   "outputs": [],
   "source": [
    "# 使用这个常量标记懒删除的桶，None和TOMBSTONE都代表空桶\n",
    "TOMBSTONE: str = 'TOMBSTONE'\n",
    "\n",
    "\n",
    "class OpenAddressingHashTable(object):\n",
    "    def __init__(self, capacity: int):\n",
    "        self._bucket: list[Pair | None | TOMBSTONE] = [None] * capacity\n",
    "        self._capacity: int = capacity\n",
    "        self._len: int = 0\n",
    "\n",
    "    def __len__(self):\n",
    "        return self._len\n",
    "\n",
    "    def __str__(self):\n",
    "        return self._bucket.__str__()\n",
    "\n",
    "    def __repr__(self):\n",
    "        return self._bucket.__str__()\n",
    "\n",
    "    def hash_func(self, key) -> int:\n",
    "        return hash(key) % self._capacity\n",
    "\n",
    "    # 线性探测函数 f(i) = i + 2\n",
    "    def linear_detect_func(self, index: int) -> int:\n",
    "        return (index + 2) % self._capacity\n",
    "\n",
    "    # 探测函数\n",
    "    def detect_func(self, index: int) -> int:\n",
    "        return self.linear_detect_func(index)\n",
    "\n",
    "    def put(self, key, val):\n",
    "        # 如果负载因子超过0.5，则进行扩容\n",
    "        if float(self._len / self._capacity) > 1. / 2:\n",
    "            self.extend()\n",
    "        # 搜索key对应索引\n",
    "        pair = Pair(key, val)\n",
    "        index = self.hash_func(key)\n",
    "        # 找到一个空桶进行存放\n",
    "        while (self._bucket[index] is not None) and (self._bucket[index] != TOMBSTONE):\n",
    "            index = self.detect_func(index)\n",
    "        self._bucket[index] = pair\n",
    "        self._len += 1\n",
    "\n",
    "    # 找到存放对应key的桶，如果没找到，则返回None\n",
    "    def find_bucket(self, key) -> int | None:\n",
    "        index = self.hash_func(key)\n",
    "        while self._bucket[index] is not None:\n",
    "            if (self._bucket[index] != TOMBSTONE) and (self._bucket[index].key == key):  # 找到了存放对应key的桶\n",
    "                return index\n",
    "            index = self.detect_func(index)\n",
    "        return None\n",
    "\n",
    "    def get(self, key):\n",
    "        index = self.find_bucket(key)\n",
    "        if index is not None:\n",
    "            return self._bucket[index].val\n",
    "        else:\n",
    "            return None\n",
    "\n",
    "    # 删除必须采用懒删除\n",
    "    def remove(self, key):\n",
    "        index = self.find_bucket(key)\n",
    "        if index is not None:\n",
    "            self._bucket[index] = TOMBSTONE  # 采用懒删除\n",
    "            self._len -= 1\n",
    "        else:\n",
    "            return None\n",
    "\n",
    "    def extend(self):\n",
    "        \"\"\"\n",
    "        对哈希表进行扩容，扩容为原来的两倍\n",
    "        \"\"\"\n",
    "        self._capacity = self._capacity * 2\n",
    "        _bucket = self._bucket\n",
    "        items = [(p.key, p.val) for i in range(len(_bucket)) for p in _bucket[i]]\n",
    "        self._bucket = [[] for _ in range(self._capacity)]\n",
    "        self._len = 0\n",
    "        for key, val in items:\n",
    "            self.put(key, val)\n",
    "\n",
    "    def keys(self):\n",
    "        # res = []\n",
    "        # for p in self._bucket:\n",
    "        #     if p is not None:\n",
    "        #         res.append(p.key)\n",
    "        # return res\n",
    "        return [p.key if (p is not None) and (p != TOMBSTONE) else None for p in self._bucket]\n",
    "\n",
    "    def values(self):\n",
    "        return [p.val if (p is not None) and (p != TOMBSTONE) else None for p in self._bucket]\n",
    "\n",
    "    def items(self):\n",
    "        return [(p.key, p.val) if (p is not None) and (p != TOMBSTONE) else None for p in self._bucket]"
   ],
   "metadata": {
    "collapsed": false,
    "ExecuteTime": {
     "end_time": "2023-10-17T13:38:12.158244700Z",
     "start_time": "2023-10-17T13:38:12.148366900Z"
    }
   },
   "id": "22d4dacfe7040e44"
  },
  {
   "cell_type": "code",
   "execution_count": 106,
   "outputs": [
    {
     "data": {
      "text/plain": "[None, 1: 张三, None, 'TOMBSTONE', 4: 李四, 5: 王五, 6: 赵六, 21: 张三风, None, None]"
     },
     "execution_count": 106,
     "metadata": {},
     "output_type": "execute_result"
    }
   ],
   "source": [
    "openAddressingHashTable = OpenAddressingHashTable(capacity=10)\n",
    "openAddressingHashTable.put(1, \"张三\")\n",
    "openAddressingHashTable.put(4, \"李四\")\n",
    "openAddressingHashTable.put(5, \"王五\")\n",
    "openAddressingHashTable.put(6, \"赵六\")\n",
    "openAddressingHashTable.put(11, \"张三丰\")\n",
    "openAddressingHashTable.put(21, \"张三风\")\n",
    "openAddressingHashTable.remove(11)\n",
    "# openAddressingHashTable.get(21)\n",
    "# len(openAddressingHashTable)\n",
    "openAddressingHashTable"
   ],
   "metadata": {
    "collapsed": false,
    "ExecuteTime": {
     "end_time": "2023-10-17T13:38:12.412967100Z",
     "start_time": "2023-10-17T13:38:12.407552600Z"
    }
   },
   "id": "14ca549886a7480e"
  },
  {
   "cell_type": "code",
   "execution_count": 106,
   "outputs": [],
   "source": [],
   "metadata": {
    "collapsed": false,
    "ExecuteTime": {
     "end_time": "2023-10-17T13:38:12.822262100Z",
     "start_time": "2023-10-17T13:38:12.798252500Z"
    }
   },
   "id": "19cbeb0955ebf12b"
  },
  {
   "cell_type": "code",
   "execution_count": null,
   "outputs": [],
   "source": [],
   "metadata": {
    "collapsed": false
   },
   "id": "b19af0b85547bd3e"
  }
 ],
 "metadata": {
  "kernelspec": {
   "display_name": "Python 3",
   "language": "python",
   "name": "python3"
  },
  "language_info": {
   "codemirror_mode": {
    "name": "ipython",
    "version": 2
   },
   "file_extension": ".py",
   "mimetype": "text/x-python",
   "name": "python",
   "nbconvert_exporter": "python",
   "pygments_lexer": "ipython2",
   "version": "2.7.6"
  }
 },
 "nbformat": 4,
 "nbformat_minor": 5
}
