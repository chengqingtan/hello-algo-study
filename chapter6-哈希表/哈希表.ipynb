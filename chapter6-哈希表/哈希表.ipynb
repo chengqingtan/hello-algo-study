{
 "cells": [
  {
   "cell_type": "markdown",
   "source": [
    "## 6.1 哈希表"
   ],
   "metadata": {
    "collapsed": false
   },
   "id": "f10437b1bd0e6353"
  },
  {
   "cell_type": "markdown",
   "source": [
    "### python的dict字典可以作为哈希表（也称散列）使用"
   ],
   "metadata": {
    "collapsed": false
   },
   "id": "6e9ec8146c3ac92e"
  },
  {
   "cell_type": "code",
   "execution_count": 6,
   "outputs": [
    {
     "data": {
      "text/plain": "{1: '张三', 2: '李四', 4: '赵六'}"
     },
     "execution_count": 6,
     "metadata": {},
     "output_type": "execute_result"
    }
   ],
   "source": [
    "hashMap1: dict = {1: \"张三\", 2: \"李四\"}\n",
    "hashMap2: dict = dict()\n",
    "# 添加元素\n",
    "hashMap1[3] = \"王五\"\n",
    "hashMap1[4] = '赵六'\n",
    "hashMap1.pop(3)\n",
    "hashMap1"
   ],
   "metadata": {
    "collapsed": false,
    "ExecuteTime": {
     "end_time": "2023-10-17T11:02:23.364461900Z",
     "start_time": "2023-10-17T11:02:23.360521Z"
    }
   },
   "id": "21f1f54a6e479a07"
  },
  {
   "cell_type": "code",
   "execution_count": 68,
   "outputs": [
    {
     "name": "stdout",
     "output_type": "stream",
     "text": [
      "key: 1, value: 张三\n",
      "key: 2, value: 李四\n",
      "key: 4, value: 赵六\n"
     ]
    }
   ],
   "source": [
    "# 哈希表遍历\n",
    "## 方式一\n",
    "for key, value in hashMap1.items():\n",
    "    print(\"key: {}, value: {}\".format(key, value))"
   ],
   "metadata": {
    "collapsed": false,
    "ExecuteTime": {
     "end_time": "2023-10-17T11:35:44.196319300Z",
     "start_time": "2023-10-17T11:35:44.191496200Z"
    }
   },
   "id": "f3e02e4701dcfca0"
  },
  {
   "cell_type": "code",
   "execution_count": 69,
   "outputs": [
    {
     "data": {
      "text/plain": "dict_items([(1, '张三'), (2, '李四'), (4, '赵六')])"
     },
     "execution_count": 69,
     "metadata": {},
     "output_type": "execute_result"
    }
   ],
   "source": [
    "hashMap1.items()"
   ],
   "metadata": {
    "collapsed": false,
    "ExecuteTime": {
     "end_time": "2023-10-17T11:35:44.721531300Z",
     "start_time": "2023-10-17T11:35:44.716651300Z"
    }
   },
   "id": "4336f5db016631cd"
  },
  {
   "cell_type": "code",
   "execution_count": 9,
   "outputs": [
    {
     "name": "stdout",
     "output_type": "stream",
     "text": [
      "key: 1, value: 张三\n",
      "key: 2, value: 李四\n",
      "key: 4, value: 赵六\n"
     ]
    }
   ],
   "source": [
    "## 方式二\n",
    "for key in hashMap1.keys():\n",
    "    print(\"key: {}, value: {}\".format(key, hashMap1[key]))"
   ],
   "metadata": {
    "collapsed": false,
    "ExecuteTime": {
     "end_time": "2023-10-17T11:03:36.494863200Z",
     "start_time": "2023-10-17T11:03:36.481979100Z"
    }
   },
   "id": "e2e667ba3a8d684e"
  },
  {
   "cell_type": "code",
   "execution_count": 11,
   "outputs": [
    {
     "name": "stdout",
     "output_type": "stream",
     "text": [
      "value: 张三\n",
      "value: 李四\n",
      "value: 赵六\n"
     ]
    }
   ],
   "source": [
    "## 方式三，只遍历值\n",
    "for value in hashMap1.values():\n",
    "    print(\"value: {}\".format(value))"
   ],
   "metadata": {
    "collapsed": false,
    "ExecuteTime": {
     "end_time": "2023-10-17T11:04:30.924906Z",
     "start_time": "2023-10-17T11:04:30.919910400Z"
    }
   },
   "id": "621511c1280d2d5f"
  },
  {
   "cell_type": "markdown",
   "source": [
    "## 计算哈希值\n",
    "hash()"
   ],
   "metadata": {
    "collapsed": false
   },
   "id": "318ab888f3c6e89b"
  },
  {
   "cell_type": "code",
   "execution_count": 12,
   "outputs": [
    {
     "data": {
      "text/plain": "-29210223180457299"
     },
     "execution_count": 12,
     "metadata": {},
     "output_type": "execute_result"
    }
   ],
   "source": [
    "\"12345\".__hash__()"
   ],
   "metadata": {
    "collapsed": false,
    "ExecuteTime": {
     "end_time": "2023-10-17T11:05:26.038748500Z",
     "start_time": "2023-10-17T11:05:26.027911900Z"
    }
   },
   "id": "ee84d7ead4092f15"
  },
  {
   "cell_type": "code",
   "execution_count": 28,
   "outputs": [
    {
     "data": {
      "text/plain": "-29210223180457299"
     },
     "execution_count": 28,
     "metadata": {},
     "output_type": "execute_result"
    }
   ],
   "source": [
    "hash(\"12345\")"
   ],
   "metadata": {
    "collapsed": false,
    "ExecuteTime": {
     "end_time": "2023-10-17T11:25:10.008609600Z",
     "start_time": "2023-10-17T11:25:10.001714600Z"
    }
   },
   "id": "4053458c3a42ba81"
  },
  {
   "cell_type": "code",
   "execution_count": 32,
   "outputs": [
    {
     "data": {
      "text/plain": "123"
     },
     "execution_count": 32,
     "metadata": {},
     "output_type": "execute_result"
    }
   ],
   "source": [
    "hash(123)"
   ],
   "metadata": {
    "collapsed": false,
    "ExecuteTime": {
     "end_time": "2023-10-17T11:25:21.288047100Z",
     "start_time": "2023-10-17T11:25:21.280691300Z"
    }
   },
   "id": "c42aaf9adeb0c610"
  },
  {
   "cell_type": "code",
   "execution_count": 25,
   "outputs": [
    {
     "data": {
      "text/plain": "8"
     },
     "execution_count": 25,
     "metadata": {},
     "output_type": "execute_result"
    }
   ],
   "source": [
    "a = -2\n",
    "b = 10\n",
    "a % b"
   ],
   "metadata": {
    "collapsed": false,
    "ExecuteTime": {
     "end_time": "2023-10-17T11:13:19.723960500Z",
     "start_time": "2023-10-17T11:13:19.718048800Z"
    }
   },
   "id": "eeef9e6360306f30"
  },
  {
   "cell_type": "markdown",
   "source": [
    "## 使用数组来实现简单的哈希表，没有解决哈希冲突"
   ],
   "metadata": {
    "collapsed": false
   },
   "id": "dbec13052ceda0ca"
  },
  {
   "cell_type": "code",
   "execution_count": 64,
   "outputs": [],
   "source": [
    "class Pair:\n",
    "    def __init__(self, key, val):\n",
    "        self.key = key\n",
    "        self.val = val\n",
    "    \n",
    "    def __str__(self):\n",
    "        return \"{}: {}\".format(self.key, self.val)\n",
    "    \n",
    "    def __repr__(self):\n",
    "        return \"{}: {}\".format(self.key, self.val)\n",
    "    \n",
    "        \n",
    "\n",
    "class SimpleArrayHashTable(object):\n",
    "    def __init__(self, capacity:int):\n",
    "        self._bucket:list[Pair | None] = [None] * capacity\n",
    "        self._capacity:int = capacity\n",
    "        self._len:int = 0\n",
    "    \n",
    "    def __len__(self):\n",
    "        return self._len\n",
    "    \n",
    "    def __str__(self):\n",
    "        return self._bucket.__str__()\n",
    "    \n",
    "    def __repr__(self):\n",
    "        return self._bucket.__str__()\n",
    "        \n",
    "    def hash_func(self, key) -> int:\n",
    "        return hash(key) % self._capacity\n",
    "        \n",
    "    def put(self, key, val):\n",
    "        pair = Pair(key, val)\n",
    "        index = self.hash_func(key)\n",
    "        self._bucket[index] = pair\n",
    "        self._len += 1\n",
    "    \n",
    "    def get(self, key):\n",
    "        index = self.hash_func(key)\n",
    "        if self._bucket[index] is None:\n",
    "            return None\n",
    "        else :\n",
    "            return self._bucket[index].val\n",
    "    \n",
    "    def remove(self, key):\n",
    "        index = self.hash_func(key)\n",
    "        if self._bucket[index] is None:\n",
    "            return None\n",
    "        else :\n",
    "            val = self._bucket[index].val\n",
    "            self._bucket[index] = None\n",
    "            self._len -= 1\n",
    "            return val\n",
    "        \n",
    "    def keys(self):\n",
    "        res = []\n",
    "        for p in self._bucket:\n",
    "            if p is not None:\n",
    "                res.append(p.key)\n",
    "        return res\n",
    "    \n",
    "    def values(self):\n",
    "        res = []\n",
    "        for p in self._bucket:\n",
    "            if p is not None:\n",
    "                res.append(p.val)\n",
    "        return res\n",
    "    \n",
    "    def items(self):\n",
    "        res = []\n",
    "        for p in self._bucket:\n",
    "            if p is not None:\n",
    "                res.append((p.key, p.val))\n",
    "        return res\n",
    "    "
   ],
   "metadata": {
    "collapsed": false,
    "ExecuteTime": {
     "end_time": "2023-10-17T11:35:01.131035200Z",
     "start_time": "2023-10-17T11:35:01.127130400Z"
    }
   },
   "id": "de0523d5fd98f7c8"
  },
  {
   "cell_type": "code",
   "execution_count": 75,
   "outputs": [
    {
     "data": {
      "text/plain": "[None, 1: 张三, None, 3: 王五, 4: 赵六, None, None, None, None, None]"
     },
     "execution_count": 75,
     "metadata": {},
     "output_type": "execute_result"
    }
   ],
   "source": [
    "simpleArrayHashTable = SimpleArrayHashTable(capacity=10)\n",
    "simpleArrayHashTable.put(1, '张三')\n",
    "simpleArrayHashTable.put(2, '李四')\n",
    "simpleArrayHashTable.put(3, '王五')\n",
    "simpleArrayHashTable.put(4, '赵六')\n",
    "\n",
    "simpleArrayHashTable.remove(2)\n",
    "# len(simpleArrayHashTable)\n",
    "# simpleArrayHashTable.get(3)\n",
    "simpleArrayHashTable"
   ],
   "metadata": {
    "collapsed": false,
    "ExecuteTime": {
     "end_time": "2023-10-17T11:37:24.095360500Z",
     "start_time": "2023-10-17T11:37:24.087980Z"
    }
   },
   "id": "99cad265d85af920"
  },
  {
   "cell_type": "code",
   "execution_count": 76,
   "outputs": [
    {
     "name": "stdout",
     "output_type": "stream",
     "text": [
      "[(1, '张三'), (3, '王五'), (4, '赵六')]\n",
      "key: 1, value: 张三\n",
      "key: 3, value: 王五\n",
      "key: 4, value: 赵六\n"
     ]
    }
   ],
   "source": [
    "# 使用items()遍历哈希表\n",
    "print(simpleArrayHashTable.items())\n",
    "for key, value in simpleArrayHashTable.items():\n",
    "    print(\"key: {}, value: {}\".format(key, value))"
   ],
   "metadata": {
    "collapsed": false,
    "ExecuteTime": {
     "end_time": "2023-10-17T11:37:25.203649600Z",
     "start_time": "2023-10-17T11:37:25.199702700Z"
    }
   },
   "id": "bb2c7e4a9aeae104"
  },
  {
   "cell_type": "code",
   "execution_count": null,
   "outputs": [],
   "source": [],
   "metadata": {
    "collapsed": false
   },
   "id": "3c113bca1d1c481a"
  }
 ],
 "metadata": {
  "kernelspec": {
   "display_name": "Python 3",
   "language": "python",
   "name": "python3"
  },
  "language_info": {
   "codemirror_mode": {
    "name": "ipython",
    "version": 2
   },
   "file_extension": ".py",
   "mimetype": "text/x-python",
   "name": "python",
   "nbconvert_exporter": "python",
   "pygments_lexer": "ipython2",
   "version": "2.7.6"
  }
 },
 "nbformat": 4,
 "nbformat_minor": 5
}
