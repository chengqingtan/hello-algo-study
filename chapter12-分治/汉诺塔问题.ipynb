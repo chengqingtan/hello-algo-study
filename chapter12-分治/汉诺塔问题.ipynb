{
 "cells": [
  {
   "cell_type": "code",
   "execution_count": 6,
   "id": "initial_id",
   "metadata": {
    "collapsed": true,
    "ExecuteTime": {
     "end_time": "2023-10-21T09:28:01.435184900Z",
     "start_time": "2023-10-21T09:28:01.430303500Z"
    }
   },
   "outputs": [
    {
     "name": "stdout",
     "output_type": "stream",
     "text": [
      "[]\n",
      "[]\n",
      "[7, 6, 5, 4, 3, 2, 1]\n"
     ]
    }
   ],
   "source": [
    "## 12.4 汉诺塔问题\n",
    "\n",
    "def move(src:list[int], target:list[int]):\n",
    "     \"\"\"将一个圆盘从src移动到target\"\"\"\n",
    "     target.append(src.pop())\n",
    "    \n",
    "def solve_hanota(src:list[int], buff:list[int], target:[int]):\n",
    "    \"\"\"求解汉诺塔问题\"\"\"\n",
    "    \n",
    "    def _solve_hanota(n:int, src:list[int], buff:list[int], target:list[int]):\n",
    "        \"\"\"汉诺塔问题分治，将src的n个圆盘经buff移动到target\"\"\"\n",
    "        if n == 1:\n",
    "            move(src, target)\n",
    "        else:\n",
    "            # 将src内 n - 1个经target移动到buff，\n",
    "            # 再将src内最后一个移动到target，\n",
    "            # 最后将buff内 n - 1个经src移动到 target\n",
    "            _solve_hanota(n - 1, src, target, buff)\n",
    "            move(src, target)\n",
    "            _solve_hanota(n - 1, buff, src, target)\n",
    "    \n",
    "    n = len(src)\n",
    "    _solve_hanota(n, src, buff, target)\n",
    "\n",
    "src = [7, 6, 5, 4, 3, 2, 1]\n",
    "buff = []\n",
    "target = []\n",
    "solve_hanota(src, buff, target)\n",
    "print(src)\n",
    "print(buff)\n",
    "print(target)"
   ]
  },
  {
   "cell_type": "code",
   "execution_count": null,
   "outputs": [],
   "source": [],
   "metadata": {
    "collapsed": false
   },
   "id": "c4ebb954689a7664"
  }
 ],
 "metadata": {
  "kernelspec": {
   "display_name": "Python 3",
   "language": "python",
   "name": "python3"
  },
  "language_info": {
   "codemirror_mode": {
    "name": "ipython",
    "version": 2
   },
   "file_extension": ".py",
   "mimetype": "text/x-python",
   "name": "python",
   "nbconvert_exporter": "python",
   "pygments_lexer": "ipython2",
   "version": "2.7.6"
  }
 },
 "nbformat": 4,
 "nbformat_minor": 5
}
