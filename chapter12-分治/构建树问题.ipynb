{
 "cells": [
  {
   "cell_type": "markdown",
   "source": [
    "## 12.3 构建树问题\n",
    "给定一个二叉树的前序遍历 preorder 和中序遍历 inorder ，请从中构建二叉树，返回二叉树的根节点。"
   ],
   "metadata": {
    "collapsed": false
   },
   "id": "60ef459a55ead13e"
  },
  {
   "cell_type": "code",
   "execution_count": 10,
   "outputs": [
    {
     "name": "stdout",
     "output_type": "stream",
     "text": [
      "[3, 9, 2, 1, 7]\n"
     ]
    }
   ],
   "source": [
    "class TreeNode(object):\n",
    "    def __init__(self, val):\n",
    "        self.val = val\n",
    "        self.left: TreeNode | None = None\n",
    "        self.right: TreeNode | None = None\n",
    "\n",
    "# 分层遍历(层序遍历)\n",
    "def level_order_traversal(root: TreeNode | None) -> list:\n",
    "    queue:list[TreeNode | None] = []\n",
    "    res:list = []\n",
    "    queue.append(root)\n",
    "    while len(queue) != 0:\n",
    "        e = queue.pop(0)\n",
    "        if e is not None:\n",
    "            res.append(e.val)\n",
    "            queue.append(e.left)\n",
    "            queue.append(e.right)\n",
    "    return res\n",
    "\n",
    "# 前序遍历的第一个节点为根节点\n",
    "# 中序遍历可以划分出左子树和右子树\n",
    "def create_tree(preorder: list, inorder: list) -> TreeNode:\n",
    "    \n",
    "    def _create_tree(preorder:list, inorder:list) -> TreeNode | None:\n",
    "        if len(preorder) == 0 or len(inorder) == 0:\n",
    "            return None\n",
    "\n",
    "        root = TreeNode(preorder[0])\n",
    "        divide_idx = inorder.index(preorder[0])\n",
    "        inorder_left = inorder[:divide_idx]\n",
    "        inorder_right = inorder[divide_idx + 1:]\n",
    "        preorder_left = []\n",
    "        preorder_right = []\n",
    "        for e in preorder[1:]:\n",
    "            if e in inorder_left:\n",
    "                preorder_left.append(e)\n",
    "            else:\n",
    "                preorder_right.append(e)\n",
    "        # 构建左子树\n",
    "        root.left = _create_tree(preorder_left, inorder_left)\n",
    "        # 构建右子树\n",
    "        root.right = _create_tree(preorder_right, inorder_right)\n",
    "        # 返回树根节点\n",
    "        return root\n",
    "    \n",
    "    return _create_tree(preorder, inorder)\n",
    "    \n",
    "preorder = [3, 9, 2, 1, 7]\n",
    "inorder = [9, 3, 1, 2, 7]\n",
    "root = create_tree(preorder, inorder)\n",
    "print(level_order_traversal(root))"
   ],
   "metadata": {
    "collapsed": false,
    "ExecuteTime": {
     "end_time": "2023-10-21T08:53:07.799531200Z",
     "start_time": "2023-10-21T08:53:07.795627200Z"
    }
   },
   "id": "bc46b9e4ff749d51"
  },
  {
   "cell_type": "code",
   "execution_count": null,
   "outputs": [],
   "source": [],
   "metadata": {
    "collapsed": false
   },
   "id": "b9466506d49ab117"
  }
 ],
 "metadata": {
  "kernelspec": {
   "display_name": "Python 3",
   "language": "python",
   "name": "python3"
  },
  "language_info": {
   "codemirror_mode": {
    "name": "ipython",
    "version": 2
   },
   "file_extension": ".py",
   "mimetype": "text/x-python",
   "name": "python",
   "nbconvert_exporter": "python",
   "pygments_lexer": "ipython2",
   "version": "2.7.6"
  }
 },
 "nbformat": 4,
 "nbformat_minor": 5
}
