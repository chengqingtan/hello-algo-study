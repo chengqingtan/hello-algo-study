{
 "cells": [
  {
   "cell_type": "markdown",
   "source": [
    "## 11.2 分治搜索策略"
   ],
   "metadata": {
    "collapsed": false
   },
   "id": "38593e7a87cdc261"
  },
  {
   "cell_type": "code",
   "execution_count": 39,
   "outputs": [
    {
     "name": "stdout",
     "output_type": "stream",
     "text": [
      "列表内值为: [5, 7, 10, 15, 16, 25, 52, 53, 61, 63, 64, 75, 83, 87, 91, 91, 95, 97, 98, 100, 100, 100, 100]\n",
      "二分查找 100 的结果为 19\n"
     ]
    }
   ],
   "source": [
    "# 递归实现二分查找\n",
    "def binary_search(nums:list, target) -> int:\n",
    "    \n",
    "    def _binary_search(nums:list, target, left:int, right:int) -> int:\n",
    "        \"\"\"保持 nums[left] <= target <= nums[right]\"\"\"\n",
    "        if left >= right - 1:\n",
    "            return left if target == nums[left] else right\n",
    "        center = (left + right) // 2\n",
    "        if target <= nums[center]:\n",
    "            return _binary_search(nums, target, left, center)\n",
    "        elif target > nums[center]:\n",
    "            return _binary_search(nums, target, center, right)\n",
    "    \n",
    "    return _binary_search(nums, target, 0, len(nums) - 1) if nums[0] <= target <= nums[-1] else (0 if target < nums[0] else len(nums))\n",
    "    \n",
    "l1 = [5, 7, 10, 15, 16, 25, 52, 53, 61, 63, 64, 75, 83, 87, 91, 91, 95, 97, 98, 100]\n",
    "print(\"列表内值为: {}\".format(l1))\n",
    "target = 100\n",
    "print(\"二分查找 {} 的结果为 {}\".format(target, binary_search(l1, target)))\n",
    "\n",
    "    "
   ],
   "metadata": {
    "collapsed": false,
    "ExecuteTime": {
     "end_time": "2023-10-21T08:21:38.270276800Z",
     "start_time": "2023-10-21T08:21:38.265349300Z"
    }
   },
   "id": "5320a82e94ccf845"
  },
  {
   "cell_type": "code",
   "execution_count": 43,
   "outputs": [
    {
     "name": "stdout",
     "output_type": "stream",
     "text": [
      "列表内值为: [5, 7, 10, 15, 16, 25, 52, 53, 61, 63, 64, 75, 83, 87, 91, 91, 95, 97, 98, 100]\n",
      "二分查找 7 的结果为 1\n"
     ]
    }
   ],
   "source": [
    "# 循环实现二分查找\n",
    "def binary_search(nums:list, target):\n",
    "    \"\"\"保持 nums[left] <= target <= nums[right]\"\"\"\n",
    "    if not nums[0] <= target <= nums[-1]:\n",
    "        return 0 if target < nums[0] else len(nums)\n",
    "    left = 0\n",
    "    right = len(nums) - 1\n",
    "    while left < right - 1:\n",
    "        center = (left + right) // 2\n",
    "        if target <= nums[center]:\n",
    "            right = center\n",
    "        else:\n",
    "            left = center\n",
    "    return left if target == nums[left] else right\n",
    "\n",
    "l1 = [5, 7, 10, 15, 16, 25, 52, 53, 61, 63, 64, 75, 83, 87, 91, 91, 95, 97, 98, 100]\n",
    "print(\"列表内值为: {}\".format(l1))\n",
    "target = 7\n",
    "print(\"二分查找 {} 的结果为 {}\".format(target, binary_search(l1, target)))"
   ],
   "metadata": {
    "collapsed": false,
    "ExecuteTime": {
     "end_time": "2023-10-21T08:29:13.039354800Z",
     "start_time": "2023-10-21T08:29:13.034476500Z"
    }
   },
   "id": "f5535fbce9a458d5"
  },
  {
   "cell_type": "code",
   "execution_count": null,
   "outputs": [],
   "source": [],
   "metadata": {
    "collapsed": false
   },
   "id": "35f6bac0877a0ea2"
  }
 ],
 "metadata": {
  "kernelspec": {
   "display_name": "Python 3",
   "language": "python",
   "name": "python3"
  },
  "language_info": {
   "codemirror_mode": {
    "name": "ipython",
    "version": 2
   },
   "file_extension": ".py",
   "mimetype": "text/x-python",
   "name": "python",
   "nbconvert_exporter": "python",
   "pygments_lexer": "ipython2",
   "version": "2.7.6"
  }
 },
 "nbformat": 4,
 "nbformat_minor": 5
}
