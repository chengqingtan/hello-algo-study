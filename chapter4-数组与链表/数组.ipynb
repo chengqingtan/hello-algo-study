{
 "cells": [
  {
   "cell_type": "markdown",
   "source": [
    "## 4.1 数组"
   ],
   "metadata": {
    "collapsed": false
   },
   "id": "e541b48f947157d1"
  },
  {
   "cell_type": "code",
   "execution_count": 8,
   "outputs": [
    {
     "name": "stdout",
     "output_type": "stream",
     "text": [
      "初始化数组成功: [0, 0, 0, 0, 0]\n",
      "数组的第一个元素是0\n",
      "数组的第二个元素修改为2，修改后的数组取值为: [0, 2, 0, 0, 0]\n",
      "删除数组的第三个元素，删除后的数组为: [0, 2, 0, 0, 0]\n",
      "遍历数组结果为: [0, 2, 0, 0, 0, ]\n",
      "遍历数组的第二种方式: [0, 2, 0, 0, 0]\n"
     ]
    }
   ],
   "source": [
    "# 1.初始化数组\n",
    "integers: list[int] = [0] * 5\n",
    "print(\"初始化数组成功: {}\".format(integers))\n",
    "# 2.访问数组元素\n",
    "print(\"数组的第一个元素是{}\".format(integers[0]))\n",
    "# 3.修改数组元素\n",
    "integers[1] = 2\n",
    "print(\"数组的第二个元素修改为2，修改后的数组取值为: {}\".format(integers))\n",
    "# 4.删除数组元素\n",
    "for i in range(2, len(integers) - 1):\n",
    "    integers[i] = integers[i + 1]\n",
    "print(\"删除数组的第三个元素，删除后的数组为: {}\".format(integers))\n",
    "# 5.遍历数组元素\n",
    "print(\"遍历数组结果为: [\", end='')\n",
    "for i in range(len(integers)):\n",
    "    print(integers[i], end=', ')\n",
    "print(\"]\")\n",
    "print(\"遍历数组的第二种方式: {}\".format([integers[i] for i in range(len(integers))]))"
   ],
   "metadata": {
    "collapsed": false,
    "ExecuteTime": {
     "end_time": "2023-10-17T09:01:57.953393500Z",
     "start_time": "2023-10-17T09:01:57.948372200Z"
    }
   },
   "id": "a3a1a80becfdf502"
  },
  {
   "cell_type": "code",
   "execution_count": null,
   "outputs": [],
   "source": [],
   "metadata": {
    "collapsed": false
   },
   "id": "af49253b2d0b5d77"
  }
 ],
 "metadata": {
  "kernelspec": {
   "display_name": "Python 3",
   "language": "python",
   "name": "python3"
  },
  "language_info": {
   "codemirror_mode": {
    "name": "ipython",
    "version": 2
   },
   "file_extension": ".py",
   "mimetype": "text/x-python",
   "name": "python",
   "nbconvert_exporter": "python",
   "pygments_lexer": "ipython2",
   "version": "2.7.6"
  }
 },
 "nbformat": 4,
 "nbformat_minor": 5
}
