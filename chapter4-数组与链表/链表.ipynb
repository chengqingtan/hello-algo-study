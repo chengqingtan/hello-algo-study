{
 "cells": [
  {
   "cell_type": "markdown",
   "source": [
    "## 4.2 链表"
   ],
   "metadata": {
    "collapsed": false
   },
   "id": "395ef060817ebd0d"
  },
  {
   "cell_type": "code",
   "execution_count": 4,
   "outputs": [],
   "source": [
    "# 1.创建链表节点\n",
    "class Node(object):\n",
    "    def __init__(self, val):\n",
    "        self.val = val\n",
    "        self.next: Node | None = None"
   ],
   "metadata": {
    "collapsed": false,
    "ExecuteTime": {
     "end_time": "2023-10-17T09:05:11.463963300Z",
     "start_time": "2023-10-17T09:05:11.463963300Z"
    }
   },
   "id": "ae7fb762f3feedc4"
  },
  {
   "cell_type": "code",
   "execution_count": 33,
   "outputs": [],
   "source": [
    "# 2.初始化链表\n",
    "def createLinkedList(values: list | None) -> Node | None:\n",
    "    if (values is None) or (len(values) == 0):\n",
    "        return None\n",
    "    else:\n",
    "        head = None\n",
    "        last = None\n",
    "        for i in range(len(values)):\n",
    "            n = Node(values[i])\n",
    "            if head is None:\n",
    "                head = n\n",
    "            if last is None:\n",
    "                last = n\n",
    "            else:\n",
    "                last.next = n\n",
    "                last = last.next\n",
    "        return head\n",
    "\n",
    "linkedList = createLinkedList([1, 2, 3, 4, 5])"
   ],
   "metadata": {
    "collapsed": false,
    "ExecuteTime": {
     "end_time": "2023-10-17T09:24:43.967026300Z",
     "start_time": "2023-10-17T09:24:43.961171100Z"
    }
   },
   "id": "7f7885f1a9c075b4"
  },
  {
   "cell_type": "code",
   "execution_count": 34,
   "outputs": [
    {
     "data": {
      "text/plain": "[1, 2, 3, 4, 5]"
     },
     "execution_count": 34,
     "metadata": {},
     "output_type": "execute_result"
    }
   ],
   "source": [
    "# 3.遍历链表\n",
    "def traverseLinkedList(head: Node|None) -> list:\n",
    "    res = []\n",
    "    curr = head\n",
    "    while curr is not None:\n",
    "        res.append(curr.val)\n",
    "        curr = curr.next\n",
    "    return res\n",
    "    \n",
    "traverseLinkedList(linkedList)\n",
    "\n",
    "# n1 = Node(1)\n",
    "# n2 = Node(2)\n",
    "# n3 = Node(3)\n",
    "# n4 = Node(4)\n",
    "# n1.next = n2\n",
    "# n2.next = n3\n",
    "# n3.next = n4\n",
    "# traverseLinkedList(n1)"
   ],
   "metadata": {
    "collapsed": false,
    "ExecuteTime": {
     "end_time": "2023-10-17T09:24:44.303277800Z",
     "start_time": "2023-10-17T09:24:44.295422600Z"
    }
   },
   "id": "e31546753d92926c"
  },
  {
   "cell_type": "code",
   "execution_count": 35,
   "outputs": [],
   "source": [
    "# 3.删除节点\n",
    "## 删除第三个个节点\n",
    "n2 = linkedList.next\n",
    "n2.next = n2.next.next\n"
   ],
   "metadata": {
    "collapsed": false,
    "ExecuteTime": {
     "end_time": "2023-10-17T09:24:44.905912700Z",
     "start_time": "2023-10-17T09:24:44.900052700Z"
    }
   },
   "id": "1697fbb10f2bc043"
  },
  {
   "cell_type": "code",
   "execution_count": 36,
   "outputs": [
    {
     "data": {
      "text/plain": "[1, 2, 4, 5]"
     },
     "execution_count": 36,
     "metadata": {},
     "output_type": "execute_result"
    }
   ],
   "source": [
    "traverseLinkedList(linkedList)"
   ],
   "metadata": {
    "collapsed": false,
    "ExecuteTime": {
     "end_time": "2023-10-17T09:24:45.566241100Z",
     "start_time": "2023-10-17T09:24:45.557870400Z"
    }
   },
   "id": "7a54a42b23865255"
  },
  {
   "cell_type": "code",
   "execution_count": 37,
   "outputs": [],
   "source": [
    "# 4.添加节点\n",
    "## 在第二个节点后添加一个节点33\n",
    "nn = Node(33)\n",
    "n2 = linkedList.next\n",
    "nn.next = n2.next\n",
    "n2.next = nn"
   ],
   "metadata": {
    "collapsed": false,
    "ExecuteTime": {
     "end_time": "2023-10-17T09:26:04.018028800Z",
     "start_time": "2023-10-17T09:26:04.004321900Z"
    }
   },
   "id": "58d5492629094702"
  },
  {
   "cell_type": "code",
   "execution_count": 38,
   "outputs": [
    {
     "data": {
      "text/plain": "[1, 2, 33, 4, 5]"
     },
     "execution_count": 38,
     "metadata": {},
     "output_type": "execute_result"
    }
   ],
   "source": [
    "traverseLinkedList(linkedList)"
   ],
   "metadata": {
    "collapsed": false,
    "ExecuteTime": {
     "end_time": "2023-10-17T09:26:06.439022100Z",
     "start_time": "2023-10-17T09:26:06.424311600Z"
    }
   },
   "id": "77b4d9ba371de7de"
  },
  {
   "cell_type": "code",
   "execution_count": 40,
   "outputs": [
    {
     "data": {
      "text/plain": "4"
     },
     "execution_count": 40,
     "metadata": {},
     "output_type": "execute_result"
    }
   ],
   "source": [
    "# 5.访问节点\n",
    "## 访问第四个节点\n",
    "curr = linkedList\n",
    "for _ in range(4 - 1):\n",
    "    curr = curr.next\n",
    "curr.val"
   ],
   "metadata": {
    "collapsed": false,
    "ExecuteTime": {
     "end_time": "2023-10-17T09:27:22.447895Z",
     "start_time": "2023-10-17T09:27:22.443015Z"
    }
   },
   "id": "26ef0ef49fedc305"
  },
  {
   "cell_type": "code",
   "execution_count": null,
   "outputs": [],
   "source": [],
   "metadata": {
    "collapsed": false
   },
   "id": "bdfba3edb702fda"
  }
 ],
 "metadata": {
  "kernelspec": {
   "display_name": "Python 3",
   "language": "python",
   "name": "python3"
  },
  "language_info": {
   "codemirror_mode": {
    "name": "ipython",
    "version": 2
   },
   "file_extension": ".py",
   "mimetype": "text/x-python",
   "name": "python",
   "nbconvert_exporter": "python",
   "pygments_lexer": "ipython2",
   "version": "2.7.6"
  }
 },
 "nbformat": 4,
 "nbformat_minor": 5
}
