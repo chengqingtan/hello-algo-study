{
 "cells": [
  {
   "cell_type": "markdown",
   "source": [
    "## 4.3 列表"
   ],
   "metadata": {
    "collapsed": false
   },
   "id": "f0353727c50a43dc"
  },
  {
   "cell_type": "code",
   "execution_count": 2,
   "outputs": [
    {
     "name": "stdout",
     "output_type": "stream",
     "text": [
      "nums1: [], nums2: [1, 2.0, True, 'a']\n"
     ]
    }
   ],
   "source": [
    "# 1.初始化列表\n",
    "nums1: list[int] = []\n",
    "nums2: list = [1, 2.0, True, 'a']\n",
    "print(\"nums1: {}, nums2: {}\".format(nums1, nums2))"
   ],
   "metadata": {
    "collapsed": false,
    "ExecuteTime": {
     "end_time": "2023-10-17T09:58:16.579361300Z",
     "start_time": "2023-10-17T09:58:16.575687500Z"
    }
   },
   "id": "be68caed92c81c3f"
  },
  {
   "cell_type": "code",
   "execution_count": 3,
   "outputs": [
    {
     "data": {
      "text/plain": "True"
     },
     "execution_count": 3,
     "metadata": {},
     "output_type": "execute_result"
    }
   ],
   "source": [
    "# 2.访问列表元素\n",
    "nums2[2]"
   ],
   "metadata": {
    "collapsed": false,
    "ExecuteTime": {
     "end_time": "2023-10-17T09:58:36.875103Z",
     "start_time": "2023-10-17T09:58:36.864230400Z"
    }
   },
   "id": "41431dacf094f567"
  },
  {
   "cell_type": "code",
   "execution_count": 5,
   "outputs": [
    {
     "data": {
      "text/plain": "[1, 2.0, True, 'a', 'abb', 'abb', 'abc']"
     },
     "execution_count": 5,
     "metadata": {},
     "output_type": "execute_result"
    }
   ],
   "source": [
    "# 3.插入元素\n",
    "nums2.append('abb')\n",
    "nums2.append('abc')\n",
    "nums2"
   ],
   "metadata": {
    "collapsed": false,
    "ExecuteTime": {
     "end_time": "2023-10-17T09:59:20.676890200Z",
     "start_time": "2023-10-17T09:59:20.672986200Z"
    }
   },
   "id": "61b219504dbb3298"
  },
  {
   "cell_type": "code",
   "execution_count": 6,
   "outputs": [
    {
     "data": {
      "text/plain": "[False, 1, 2.0, True, 'a', 'abb', 'abb', 'abc']"
     },
     "execution_count": 6,
     "metadata": {},
     "output_type": "execute_result"
    }
   ],
   "source": [
    "nums2.insert(0, False)\n",
    "nums2"
   ],
   "metadata": {
    "collapsed": false,
    "ExecuteTime": {
     "end_time": "2023-10-17T09:59:48.239355700Z",
     "start_time": "2023-10-17T09:59:48.225583100Z"
    }
   },
   "id": "732e35c313a22f6a"
  },
  {
   "cell_type": "code",
   "execution_count": 7,
   "outputs": [
    {
     "data": {
      "text/plain": "[1, 2.0, True, 'a', 'abb', 'abb', 'abc']"
     },
     "execution_count": 7,
     "metadata": {},
     "output_type": "execute_result"
    }
   ],
   "source": [
    "# 4.删除元素\n",
    "nums2.pop(0)\n",
    "nums2"
   ],
   "metadata": {
    "collapsed": false,
    "ExecuteTime": {
     "end_time": "2023-10-17T10:00:09.895296100Z",
     "start_time": "2023-10-17T10:00:09.883038200Z"
    }
   },
   "id": "ecd78403becf044a"
  },
  {
   "cell_type": "code",
   "execution_count": 9,
   "outputs": [
    {
     "name": "stdout",
     "output_type": "stream",
     "text": [
      "遍历列表: [1, 2.0, True, a, abb, abb, abc, ]"
     ]
    }
   ],
   "source": [
    "# 5.遍历列表\n",
    "print(\"遍历列表: [\", end='')\n",
    "for i in nums2:\n",
    "    print(i, end=', ')\n",
    "print(\"]\", end='')"
   ],
   "metadata": {
    "collapsed": false,
    "ExecuteTime": {
     "end_time": "2023-10-17T10:01:19.677314200Z",
     "start_time": "2023-10-17T10:01:19.671455600Z"
    }
   },
   "id": "7f62fcaf0722b9c5"
  },
  {
   "cell_type": "code",
   "execution_count": 10,
   "outputs": [
    {
     "data": {
      "text/plain": "[1, 2, 3, 4, 1, 2.0, True, 'a', 'abb', 'abb', 'abc']"
     },
     "execution_count": 10,
     "metadata": {},
     "output_type": "execute_result"
    }
   ],
   "source": [
    "# 6.列表拼接\n",
    "nums3 = [1, 2, 3, 4]\n",
    "nums3 + nums2"
   ],
   "metadata": {
    "collapsed": false,
    "ExecuteTime": {
     "end_time": "2023-10-17T10:02:01.186412400Z",
     "start_time": "2023-10-17T10:02:01.172512200Z"
    }
   },
   "id": "c38ff66381de6a42"
  },
  {
   "cell_type": "code",
   "execution_count": 13,
   "outputs": [
    {
     "data": {
      "text/plain": "[8, 6, 5, 2, 1]"
     },
     "execution_count": 13,
     "metadata": {},
     "output_type": "execute_result"
    }
   ],
   "source": [
    "# 7.列表排序\n",
    "nums4 =  [5, 2, 6, 1, 8]\n",
    "nums4.sort(reverse=True)\n",
    "nums4"
   ],
   "metadata": {
    "collapsed": false,
    "ExecuteTime": {
     "end_time": "2023-10-17T10:02:52.149477Z",
     "start_time": "2023-10-17T10:02:52.144595700Z"
    }
   },
   "id": "35921ccd88c47bb1"
  },
  {
   "cell_type": "code",
   "execution_count": null,
   "outputs": [],
   "source": [],
   "metadata": {
    "collapsed": false
   },
   "id": "bbea585327c280b"
  }
 ],
 "metadata": {
  "kernelspec": {
   "display_name": "Python 3",
   "language": "python",
   "name": "python3"
  },
  "language_info": {
   "codemirror_mode": {
    "name": "ipython",
    "version": 2
   },
   "file_extension": ".py",
   "mimetype": "text/x-python",
   "name": "python",
   "nbconvert_exporter": "python",
   "pygments_lexer": "ipython2",
   "version": "2.7.6"
  }
 },
 "nbformat": 4,
 "nbformat_minor": 5
}
