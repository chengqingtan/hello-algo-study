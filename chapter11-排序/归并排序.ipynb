{
 "cells": [
  {
   "cell_type": "code",
   "execution_count": 19,
   "id": "initial_id",
   "metadata": {
    "collapsed": true,
    "ExecuteTime": {
     "end_time": "2023-10-20T17:30:57.940762500Z",
     "start_time": "2023-10-20T17:30:57.937769800Z"
    }
   },
   "outputs": [
    {
     "name": "stdout",
     "output_type": "stream",
     "text": [
      "[4, 7, 8, 22, 27, 30, 42, 61, 75, 83]\n"
     ]
    }
   ],
   "source": [
    "def merge_sort(nums:list):\n",
    "    def _swap(nums:list, i:int, j:int):\n",
    "        nums[i], nums[j] = nums[j], nums[i]\n",
    "    \n",
    "    def _merge(nums:list, left:int, center:int, right:int):\n",
    "        if left >= right:\n",
    "            return \n",
    "        \"\"\"将[left, center], [center + 1, right] 合并\"\"\"\n",
    "        res = []\n",
    "        i, j = left, center + 1\n",
    "        while i <= center and j <= right:\n",
    "            if nums[i] < nums[j]:\n",
    "                res.append(nums[i])\n",
    "                i += 1\n",
    "            else:\n",
    "                res.append(nums[j])\n",
    "                j += 1\n",
    "        for e in range(i, center + 1):\n",
    "            res.append(nums[e])\n",
    "        for e in range(j, right + 1):\n",
    "            res.append(nums[e])\n",
    "        nums[left:right + 1] = res\n",
    "        \n",
    "    \n",
    "    def _merge_sort(nums:list, left:int, right:int):\n",
    "        if left >= right:\n",
    "            return \n",
    "        center = (left + right) // 2\n",
    "        _merge_sort(nums, left, center)\n",
    "        _merge_sort(nums, center + 1, right)\n",
    "        # 合并\n",
    "        _merge(nums, left, center, right)\n",
    "\n",
    "    _merge_sort(nums, 0, len(nums) - 1)\n",
    "    \n",
    "l1 = [83, 8, 4, 22, 61, 42, 75, 30, 7, 27]\n",
    "merge_sort(l1)\n",
    "print(l1)"
   ]
  },
  {
   "cell_type": "code",
   "execution_count": 5,
   "outputs": [
    {
     "data": {
      "text/plain": "[0, 1, 2, [3, 4]]"
     },
     "execution_count": 5,
     "metadata": {},
     "output_type": "execute_result"
    }
   ],
   "source": [],
   "metadata": {
    "collapsed": false,
    "ExecuteTime": {
     "end_time": "2023-10-20T17:19:13.467429300Z",
     "start_time": "2023-10-20T17:19:13.460581400Z"
    }
   },
   "id": "a6d366c7df990fe0"
  },
  {
   "cell_type": "code",
   "execution_count": null,
   "outputs": [],
   "source": [],
   "metadata": {
    "collapsed": false
   },
   "id": "3f859eb6ee2cede8"
  }
 ],
 "metadata": {
  "kernelspec": {
   "display_name": "Python 3",
   "language": "python",
   "name": "python3"
  },
  "language_info": {
   "codemirror_mode": {
    "name": "ipython",
    "version": 2
   },
   "file_extension": ".py",
   "mimetype": "text/x-python",
   "name": "python",
   "nbconvert_exporter": "python",
   "pygments_lexer": "ipython2",
   "version": "2.7.6"
  }
 },
 "nbformat": 4,
 "nbformat_minor": 5
}
