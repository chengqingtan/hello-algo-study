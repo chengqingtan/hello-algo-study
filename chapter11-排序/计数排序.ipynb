{
 "cells": [
  {
   "cell_type": "code",
   "execution_count": 4,
   "id": "initial_id",
   "metadata": {
    "collapsed": true,
    "ExecuteTime": {
     "end_time": "2023-10-20T19:36:46.373658700Z",
     "start_time": "2023-10-20T19:36:46.368671900Z"
    }
   },
   "outputs": [
    {
     "name": "stdout",
     "output_type": "stream",
     "text": [
      "[20, 20, 27, 42, 47, 49, 70, 72, 78, 95]\n"
     ]
    }
   ],
   "source": [
    "## 11.9 计数排序\n",
    "def counting_sort(nums:list):\n",
    "    \"\"\"为 0 ~ max_num 内的数字排序\"\"\"\n",
    "    max_num = max(nums)\n",
    "    counting = [0 for _ in range(max_num + 1)]\n",
    "    for e in nums:\n",
    "        counting[e] += 1\n",
    "    res = []\n",
    "    for i in range(len(counting)):\n",
    "        for _ in range(counting[i]):\n",
    "            res.append(i)\n",
    "    nums[::] = res\n",
    "        \n",
    "\n",
    "l1 = [27, 20, 78, 72, 95, 70, 20, 49, 42, 47]\n",
    "counting_sort(l1)\n",
    "print(l1)"
   ]
  },
  {
   "cell_type": "code",
   "execution_count": null,
   "outputs": [],
   "source": [],
   "metadata": {
    "collapsed": false
   },
   "id": "e4c1128ee40b3fd0"
  }
 ],
 "metadata": {
  "kernelspec": {
   "display_name": "Python 3",
   "language": "python",
   "name": "python3"
  },
  "language_info": {
   "codemirror_mode": {
    "name": "ipython",
    "version": 2
   },
   "file_extension": ".py",
   "mimetype": "text/x-python",
   "name": "python",
   "nbconvert_exporter": "python",
   "pygments_lexer": "ipython2",
   "version": "2.7.6"
  }
 },
 "nbformat": 4,
 "nbformat_minor": 5
}
