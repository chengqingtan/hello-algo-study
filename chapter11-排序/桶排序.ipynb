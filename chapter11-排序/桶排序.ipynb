{
 "cells": [
  {
   "cell_type": "markdown",
   "source": [
    "## 11.8 桶排序"
   ],
   "metadata": {
    "collapsed": false
   },
   "id": "3be4251894ec6cb4"
  },
  {
   "cell_type": "code",
   "execution_count": 11,
   "outputs": [
    {
     "name": "stdout",
     "output_type": "stream",
     "text": [
      "[1, 1, 1, 4, 5, 6, 7, 7, 9, 13, 13, 16, 16, 16, 17, 19, 20, 20, 24, 24, 26, 26, 26, 27, 28, 28, 29, 29, 31, 33, 34, 35, 35, 36, 36, 36, 36, 37, 38, 38, 43, 43, 45, 45, 47, 50, 50, 50, 52, 53, 54, 54, 56, 56, 58, 59, 60, 62, 64, 64, 64, 64, 65, 70, 71, 71, 72, 74, 74, 77, 78, 78, 78, 78, 79, 81, 81, 81, 82, 84, 86, 86, 86, 86, 86, 87, 89, 90, 90, 90, 92, 93, 95, 96, 97, 98, 98, 99, 99, 100]\n"
     ]
    }
   ],
   "source": [
    "def bucket_sort(nums:list):\n",
    "    # 创建10个桶,每个桶内元素为 1 ~ 10, 11 ~ 20 ...\n",
    "    # 为 1 ~ 100 内的元素分类\n",
    "    buckets:list[list[int]] = [[] for _ in range(10)]\n",
    "    for e in nums:\n",
    "        bucket_idx = (e - 1) // 10\n",
    "        buckets[bucket_idx].append(e)\n",
    "    # 再对每个桶内的元素进行排序\n",
    "    for bucket in buckets:\n",
    "        bucket.sort()\n",
    "    # 再将桶合并\n",
    "    res = []\n",
    "    for bucket in buckets:\n",
    "        for e in bucket:\n",
    "            res.append(e)\n",
    "    nums[::] = res\n",
    "\n",
    "l1 = [86, 65, 52, 86, 45, 86, 99, 7, 5, 28, 64, 97, 95, 71, 43, 90, 37, 78, 81, 62, 20, 74, 24, 6, 50, 78, 29, 72, 79, 43, 36, 36, 84, 47, 34, 38, 98, 26, 53, 96, 13, 1, 26, 81, 36, 29, 16, 4, 27, 50, 93, 38, 24, 26, 86, 89, 71, 54, 1, 16, 82, 36, 28, 20, 7, 90, 90, 16, 50, 64, 35, 98, 9, 70, 74, 54, 13, 64, 17, 35, 77, 99, 100, 56, 19, 58, 78, 31, 60, 33, 45, 56, 59, 92, 81, 87, 78, 1, 64, 86]\n",
    "bucket_sort(l1)\n",
    "print(l1)"
   ],
   "metadata": {
    "collapsed": false,
    "ExecuteTime": {
     "end_time": "2023-10-20T19:29:12.886213700Z",
     "start_time": "2023-10-20T19:29:12.880525900Z"
    }
   },
   "id": "194ff0bbf6cf8fe8"
  },
  {
   "cell_type": "code",
   "execution_count": null,
   "outputs": [],
   "source": [],
   "metadata": {
    "collapsed": false
   },
   "id": "749833146e059c53"
  }
 ],
 "metadata": {
  "kernelspec": {
   "display_name": "Python 3",
   "language": "python",
   "name": "python3"
  },
  "language_info": {
   "codemirror_mode": {
    "name": "ipython",
    "version": 2
   },
   "file_extension": ".py",
   "mimetype": "text/x-python",
   "name": "python",
   "nbconvert_exporter": "python",
   "pygments_lexer": "ipython2",
   "version": "2.7.6"
  }
 },
 "nbformat": 4,
 "nbformat_minor": 5
}
