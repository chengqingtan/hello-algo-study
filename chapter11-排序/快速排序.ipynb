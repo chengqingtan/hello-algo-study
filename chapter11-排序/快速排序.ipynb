{
 "cells": [
  {
   "cell_type": "markdown",
   "source": [
    "## 10.5 快速排序"
   ],
   "metadata": {
    "collapsed": false
   },
   "id": "e16f451cadc41e5a"
  },
  {
   "cell_type": "code",
   "execution_count": 31,
   "outputs": [
    {
     "name": "stdout",
     "output_type": "stream",
     "text": [
      "[4, 7, 8, 22, 27, 30, 42, 61, 75, 83]\n"
     ]
    }
   ],
   "source": [
    "def swap(nums:list, i:int, j:int):\n",
    "    nums[i], nums[j] = nums[j], nums[i]\n",
    "\n",
    "def find_median_idx(nums:list, i:int, j:int, k:int) -> int:\n",
    "    if nums[i] < nums[j]:\n",
    "        if nums[i] < nums[k]:\n",
    "            return j if nums[j] < nums[k] else k\n",
    "        else:\n",
    "            return i\n",
    "    else:\n",
    "        if nums[i] < nums[k]:\n",
    "            return i\n",
    "        else:\n",
    "            return k if nums[j] < nums[k] else j\n",
    "\n",
    "def partition(nums:list, left:int, right:int) -> int:\n",
    "    \"\"\"哨兵划分\"\"\"\n",
    "    # 选择第一个值作为划分值\n",
    "    pivot = find_median_idx(nums, left, right, (left + right) // 2)\n",
    "    swap(nums, pivot, left)\n",
    "    pivot = left\n",
    "    \n",
    "    while left < right:\n",
    "        # 先从右往左找小于 pivot 处的元素\n",
    "        while right > left:\n",
    "            if nums[right] < nums[pivot]:\n",
    "                break\n",
    "            right -= 1\n",
    "        # 才从左往右找大于 pivot 处的元素\n",
    "        while left < right and nums[left] <= nums[pivot]:\n",
    "            left += 1\n",
    "        \n",
    "        swap(nums, left, right)\n",
    "    swap(nums, pivot, left)\n",
    "    return left\n",
    "    \n",
    "\n",
    "def quick_sort(nums:list):\n",
    "    \"\"\"快速排序\"\"\"\n",
    "    def _quick_sort(nums:list, left:int, right:int):\n",
    "        \"\"\"迭代\"\"\"\n",
    "        if left >= right:\n",
    "            return \n",
    "        # 哨兵划分\n",
    "        pivot = partition(nums, left, right)\n",
    "        _quick_sort(nums, left, pivot - 1)\n",
    "        _quick_sort(nums, pivot + 1, right)\n",
    "    \n",
    "    _quick_sort(nums, 0, len(nums) - 1)\n",
    "\n",
    "def better_quick_sort(nums:list):\n",
    "    \"\"\"尾递归优化的快速排序\"\"\"\n",
    "    def _better_quick_sort(nums:list, left:int, right:int):\n",
    "        \"\"\"尾递归优化迭代\"\"\"\n",
    "        while left < right:\n",
    "            pivot = partition(nums, left, right)\n",
    "            if pivot - left + 1 < right - pivot + 1:\n",
    "                _better_quick_sort(nums, left, pivot)\n",
    "                left = pivot + 1\n",
    "            else:\n",
    "                _better_quick_sort(nums, pivot, right)\n",
    "                right = pivot - 1\n",
    "    _better_quick_sort(nums, 0, len(nums) - 1)\n",
    "        \n",
    "l1 = [83, 8, 4, 22, 61, 42, 75, 30, 7, 27]\n",
    "better_quick_sort(l1)\n",
    "print(l1)"
   ],
   "metadata": {
    "collapsed": false,
    "ExecuteTime": {
     "end_time": "2023-10-20T17:04:08.632742800Z",
     "start_time": "2023-10-20T17:04:08.629948900Z"
    }
   },
   "id": "60fa8bfd1abcc63f"
  },
  {
   "cell_type": "code",
   "execution_count": null,
   "outputs": [],
   "source": [],
   "metadata": {
    "collapsed": false
   },
   "id": "567f2eafd88ab1b0"
  }
 ],
 "metadata": {
  "kernelspec": {
   "display_name": "Python 3",
   "language": "python",
   "name": "python3"
  },
  "language_info": {
   "codemirror_mode": {
    "name": "ipython",
    "version": 2
   },
   "file_extension": ".py",
   "mimetype": "text/x-python",
   "name": "python",
   "nbconvert_exporter": "python",
   "pygments_lexer": "ipython2",
   "version": "2.7.6"
  }
 },
 "nbformat": 4,
 "nbformat_minor": 5
}
