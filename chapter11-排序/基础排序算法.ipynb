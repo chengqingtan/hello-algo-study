{
 "cells": [
  {
   "cell_type": "markdown",
   "source": [
    "## 11.2 选择排序\n",
    "## 11.3 冒泡排序\n",
    "## 11.4 插入排序"
   ],
   "metadata": {
    "collapsed": false
   },
   "id": "c6123d7a68b9a3a2"
  },
  {
   "cell_type": "code",
   "execution_count": 17,
   "outputs": [],
   "source": [
    "def swap(nums:list, i:int, j:int):\n",
    "    temp = nums[i]\n",
    "    nums[i] = nums[j]\n",
    "    nums[j] = temp\n",
    "\n",
    "def select_sort(nums:list):\n",
    "    length = len(nums)\n",
    "    for i in range(length):\n",
    "        # 找到下标从 i 到 length - 1 最小的元素下标，并交换到 i 处\n",
    "        min_idx = i\n",
    "        for j in range(i + 1, length):\n",
    "            if nums[min_idx] > nums[j]:\n",
    "                min_idx = j\n",
    "        swap(nums, i, min_idx)\n",
    "        \n",
    "def bubble_sort(nums:list):\n",
    "    length = len(nums)\n",
    "    for i in range(length - 1):\n",
    "        for j in range(length - i - 1):\n",
    "            if nums[j] > nums[j+1]:\n",
    "                swap(nums, j, j+1)\n",
    "                \n",
    "\n",
    "def insert_sort(nums:list):\n",
    "    length = len(nums)\n",
    "    for i in range(1, length):\n",
    "        # 将前 0 ~ i-1 个视为已排序，将第i个插入到合适的位置\n",
    "        for j in range(i):\n",
    "            if nums[j] > nums[i]:\n",
    "                temp = nums[i]\n",
    "                for k in range(i, j, -1):\n",
    "                    nums[k] = nums[k - 1]\n",
    "                nums[j] = temp\n",
    "    \n",
    "            "
   ],
   "metadata": {
    "collapsed": false,
    "ExecuteTime": {
     "end_time": "2023-10-20T10:19:45.568264300Z",
     "start_time": "2023-10-20T10:19:45.551270800Z"
    }
   },
   "id": "e2a4d839f4a956a8"
  },
  {
   "cell_type": "code",
   "execution_count": 18,
   "outputs": [
    {
     "name": "stdout",
     "output_type": "stream",
     "text": [
      "[4, 7, 8, 22, 27, 30, 42, 61, 75, 83]\n",
      "[9, 21, 26, 39, 42, 43, 44, 54, 72, 91]\n",
      "[20, 27, 42, 47, 49, 70, 72, 78, 79, 95]\n"
     ]
    }
   ],
   "source": [
    "import random\n",
    "l1 = [83, 8, 4, 22, 61, 42, 75, 30, 7, 27]\n",
    "l2 = [72, 44, 39, 9, 26, 21, 54, 43, 42, 91]\n",
    "l3 = [27, 79, 78, 72, 95, 70, 20, 49, 42, 47]\n",
    "select_sort(l1)  # 选择排序\n",
    "bubble_sort(l2)  # 冒泡排序\n",
    "insert_sort(l3)  # 选择排序\n",
    "print(l1)\n",
    "print(l2)\n",
    "print(l3)"
   ],
   "metadata": {
    "collapsed": false,
    "ExecuteTime": {
     "end_time": "2023-10-20T10:19:46.001939900Z",
     "start_time": "2023-10-20T10:19:45.991315800Z"
    }
   },
   "id": "8a4e0cc34f48101b"
  },
  {
   "cell_type": "code",
   "execution_count": null,
   "outputs": [],
   "source": [],
   "metadata": {
    "collapsed": false
   },
   "id": "1bc067401691fc17"
  }
 ],
 "metadata": {
  "kernelspec": {
   "display_name": "Python 3",
   "language": "python",
   "name": "python3"
  },
  "language_info": {
   "codemirror_mode": {
    "name": "ipython",
    "version": 2
   },
   "file_extension": ".py",
   "mimetype": "text/x-python",
   "name": "python",
   "nbconvert_exporter": "python",
   "pygments_lexer": "ipython2",
   "version": "2.7.6"
  }
 },
 "nbformat": 4,
 "nbformat_minor": 5
}
