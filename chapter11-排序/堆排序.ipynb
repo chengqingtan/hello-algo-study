{
 "cells": [
  {
   "cell_type": "markdown",
   "source": [
    "## 11.7 堆排序"
   ],
   "metadata": {
    "collapsed": false
   },
   "id": "e15a0af30d26ed78"
  },
  {
   "cell_type": "code",
   "execution_count": 11,
   "outputs": [
    {
     "name": "stdout",
     "output_type": "stream",
     "text": [
      "[4, 7, 8, 22, 27, 30, 42, 61, 75, 83]\n"
     ]
    }
   ],
   "source": [
    "import heapq\n",
    "\n",
    "\n",
    "def heap_sort(nums: list):\n",
    "    heapq.heapify(nums)\n",
    "    length = len(nums)\n",
    "    res = [heapq.heappop(nums) for _ in range(length)]\n",
    "    nums[::] = res\n",
    "\n",
    "\n",
    "l1 = [83, 8, 4, 22, 61, 42, 75, 30, 7, 27]\n",
    "heap_sort(l1)\n",
    "print(l1)"
   ],
   "metadata": {
    "collapsed": false,
    "ExecuteTime": {
     "end_time": "2023-10-20T18:45:46.751872700Z",
     "start_time": "2023-10-20T18:45:46.748159600Z"
    }
   },
   "id": "e592ba3fbb836911"
  },
  {
   "cell_type": "code",
   "execution_count": 24,
   "outputs": [
    {
     "name": "stdout",
     "output_type": "stream",
     "text": [
      "[83, 61, 75, 30, 27, 42, 4, 22, 7, 8]\n",
      "[4, 7, 8, 22, 27, 30, 42, 61, 75, 83]\n"
     ]
    }
   ],
   "source": [
    "def swap(nums: list, i: int, j: int):\n",
    "    nums[i], nums[j] = nums[j], nums[i]\n",
    "\n",
    "\n",
    "def sift_down(nums: list, n_nums: int, idx: int):\n",
    "    \"\"\"最大堆从顶至底堆化\"\"\"\n",
    "    while idx <= (n_nums - 1 - 1) // 2:\n",
    "        left = 2 * idx + 1\n",
    "        right = 2 * idx + 2\n",
    "        if right >= n_nums or nums[left] > nums[right]:\n",
    "            # 不存在右子节点，或右子节点更小\n",
    "            if nums[idx] < nums[left]:\n",
    "                swap(nums, idx, left)\n",
    "            idx = left\n",
    "        else:\n",
    "            if nums[idx] < nums[right]:\n",
    "                swap(nums, idx, right)\n",
    "            idx = right\n",
    "\n",
    "\n",
    "def heap_sort(nums: list):\n",
    "    \"\"\"堆排序\"\"\"\n",
    "    # 建最大堆\n",
    "    for i in range((len(nums) - 1 - 1) // 2, -1, -1):\n",
    "        sift_down(nums, len(nums), i)\n",
    "    print(nums)\n",
    "    for i in range(len(nums) - 1, 0, -1):\n",
    "        # 交换 0 与 i 处元素\n",
    "        swap(nums, 0, i)\n",
    "        # 重新堆化 0 到 i - 1， 长度为 i\n",
    "        sift_down(nums, i, 0)\n",
    "\n",
    "\n",
    "l2 = [83, 8, 4, 22, 61, 42, 75, 30, 7, 27]\n",
    "heap_sort(l2)\n",
    "print(l2)"
   ],
   "metadata": {
    "collapsed": false,
    "ExecuteTime": {
     "end_time": "2023-10-20T19:12:42.771737800Z",
     "start_time": "2023-10-20T19:12:42.765017800Z"
    }
   },
   "id": "f6c008042095bfde"
  },
  {
   "cell_type": "code",
   "execution_count": null,
   "outputs": [],
   "source": [],
   "metadata": {
    "collapsed": false
   },
   "id": "383f23fdfbe61d93"
  }
 ],
 "metadata": {
  "kernelspec": {
   "display_name": "Python 3",
   "language": "python",
   "name": "python3"
  },
  "language_info": {
   "codemirror_mode": {
    "name": "ipython",
    "version": 2
   },
   "file_extension": ".py",
   "mimetype": "text/x-python",
   "name": "python",
   "nbconvert_exporter": "python",
   "pygments_lexer": "ipython2",
   "version": "2.7.6"
  }
 },
 "nbformat": 4,
 "nbformat_minor": 5
}
