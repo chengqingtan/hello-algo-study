{
 "cells": [
  {
   "cell_type": "markdown",
   "source": [
    "# 9.1 图\n",
    "* G = {V, E}\n",
    "* 有向图、无向图\n",
    "* 连通图、非连通图\n",
    "* 有权图、无权图"
   ],
   "metadata": {
    "collapsed": false
   },
   "id": "a7cb896b236c715"
  },
  {
   "cell_type": "markdown",
   "source": [
    "## 9.1.2 图的表示\n",
    "1. 邻接链表\n",
    "2. 邻接矩阵"
   ],
   "metadata": {
    "collapsed": false
   },
   "id": "b7270f2a4f04f858"
  },
  {
   "cell_type": "markdown",
   "source": [
    "# 9.2 图基础操作"
   ],
   "metadata": {
    "collapsed": false
   },
   "id": "d12080b4495a97fd"
  },
  {
   "cell_type": "markdown",
   "source": [
    "## 9.2.1 基于邻接矩阵的使用"
   ],
   "metadata": {
    "collapsed": false
   },
   "id": "a7cc80e14724f5f3"
  },
  {
   "cell_type": "code",
   "execution_count": 4,
   "outputs": [
    {
     "name": "stdout",
     "output_type": "stream",
     "text": [
      "======邻接矩阵======\n",
      "0\t1\t0\t0\t0\t\n",
      "1\t0\t1\t0\t0\t\n",
      "0\t1\t0\t0\t0\t\n",
      "0\t0\t0\t0\t0\t\n",
      "0\t0\t0\t0\t0\t\n"
     ]
    }
   ],
   "source": [
    "class AdjMatGraph(object):\n",
    "    \"\"\"基于邻接矩阵的无权无向图\"\"\"\n",
    "\n",
    "    def __init__(self, n_vertices:int):\n",
    "        self.n_vertices:int = n_vertices  # 顶点数量\n",
    "        self._mat: list[list[int]] = [[0 for _ in range(n_vertices)] for _ in range(n_vertices)]  # 邻接矩阵\n",
    "        \n",
    "        \n",
    "    def add_edge(self, i:int, j:int):\n",
    "        \"\"\"添加边\"\"\"\n",
    "        self._mat[i][j] = self._mat[j][i] = 1\n",
    "        \n",
    "    def remove_edge(self, i:int, j:int):\n",
    "        \"\"\"删除边\"\"\"\n",
    "        self._mat[i][j] = self._mat[j][i] = 0\n",
    "        \n",
    "    def print(self):\n",
    "        \"\"\"打印邻接矩阵\"\"\"\n",
    "        print(\"======邻接矩阵======\")\n",
    "        for i in range(self.n_vertices):\n",
    "            for j in range(self.n_vertices):\n",
    "                print(self._mat[i][j], end='\\t')\n",
    "            print('')\n",
    "\n",
    "g1 = AdjMatGraph(5)\n",
    "g1.add_edge(0, 1)\n",
    "g1.add_edge(2, 1)\n",
    "g1.print()"
   ],
   "metadata": {
    "collapsed": false,
    "ExecuteTime": {
     "end_time": "2023-10-19T11:24:31.629831100Z",
     "start_time": "2023-10-19T11:24:31.626446100Z"
    }
   },
   "id": "e667b3973259ffb6"
  },
  {
   "cell_type": "markdown",
   "source": [
    "## 9.2.2 基于邻接链表的实现"
   ],
   "metadata": {
    "collapsed": false
   },
   "id": "541c577d399289f2"
  },
  {
   "cell_type": "code",
   "execution_count": 26,
   "outputs": [
    {
     "name": "stdout",
     "output_type": "stream",
     "text": [
      "(0, 1)\t(0, 2)\t\n",
      "(1, 0)\t(1, 4)\t\n",
      "(2, 0)\t(2, 3)\t\n",
      "(3, 2)\t\n",
      "(4, 1)\t\n"
     ]
    }
   ],
   "source": [
    "class AdjListGraph:\n",
    "    \"\"\"基于邻接链表的无权无向图\"\"\"\n",
    "    def __init__(self, n_vertices:int):\n",
    "        self.n_vertices:int = n_vertices\n",
    "        self._edges:list[list[int]] = [[] for _ in range(n_vertices)]\n",
    "    \n",
    "    def add_edge(self, i:int, j:int):\n",
    "        if i < self.n_vertices and j < self.n_vertices:\n",
    "            self._edges[i].append(j)\n",
    "            self._edges[j].append(i)\n",
    "        \n",
    "    def remove_edge(self, i:int, j:int):\n",
    "        self._edges[i].remove(j)\n",
    "    \n",
    "    def print_all_edges(self):\n",
    "        for i in range(self.n_vertices):\n",
    "            if len(self._edges[i]) != 0:\n",
    "                for j in range(len(self._edges[i])):\n",
    "                    print(f\"({i}, {self._edges[i][j]})\",end='\\t')\n",
    "                print('')\n",
    "\n",
    "\n",
    "g2 = AdjListGraph(5)\n",
    "g2.add_edge(0, 1)\n",
    "g2.add_edge(0, 2)\n",
    "g2.add_edge(3, 2)\n",
    "g2.add_edge(1, 4)\n",
    "g2.print_all_edges()"
   ],
   "metadata": {
    "collapsed": false,
    "ExecuteTime": {
     "end_time": "2023-10-19T12:10:59.443075100Z",
     "start_time": "2023-10-19T12:10:59.440147600Z"
    }
   },
   "id": "29df3b0bbbd76749"
  },
  {
   "cell_type": "markdown",
   "source": [
    "# 9.3 图的遍历\n",
    "* dfs\n",
    "* bfs"
   ],
   "metadata": {
    "collapsed": false
   },
   "id": "a5c81a62ef5fc27c"
  },
  {
   "cell_type": "markdown",
   "source": [
    "## 1.DFS 深度优先遍历"
   ],
   "metadata": {
    "collapsed": false
   },
   "id": "e7017e94d96f30a6"
  },
  {
   "cell_type": "code",
   "execution_count": 10,
   "outputs": [
    {
     "name": "stdout",
     "output_type": "stream",
     "text": [
      "[0, 1, 2, 5, 4, 6, 3]\n",
      "[2, 1, 5, 0, 4, 6, 3]\n"
     ]
    }
   ],
   "source": [
    "class AdjListGraph:\n",
    "    \"\"\"基于邻接链表的无权无向图\"\"\"\n",
    "    def __init__(self, n_vertices:int):\n",
    "        self.n_vertices:int = n_vertices\n",
    "        self._edges:list[list[int]] = [[] for _ in range(n_vertices)]\n",
    "    \n",
    "    def add_edge(self, i:int, j:int):\n",
    "        if i < self.n_vertices and j < self.n_vertices:\n",
    "            self._edges[i].append(j)\n",
    "            self._edges[j].append(i)\n",
    "        \n",
    "    def remove_edge(self, i:int, j:int):\n",
    "        self._edges[i].remove(j)\n",
    "    \n",
    "    def print_all_edges(self):\n",
    "        for i in range(self.n_vertices):\n",
    "            if len(self._edges[i]) != 0:\n",
    "                for j in range(len(self._edges[i])):\n",
    "                    print(f\"({i}, {self._edges[i][j]})\",end='\\t')\n",
    "                print('')\n",
    "    \n",
    "    def dfs(self, start:int) -> list[int]:\n",
    "        \"\"\"深度优先遍历\"\"\"\n",
    "        \n",
    "        def _dfs(start:int, visited:set[int]) -> list[int]:\n",
    "            res = []\n",
    "            res.append(start)\n",
    "            visited.add(start)\n",
    "            for v in self._edges[start]:\n",
    "                if v not in visited:\n",
    "                    res += _dfs(v, visited)\n",
    "            return res\n",
    "        \n",
    "        return _dfs(start, set())\n",
    "    \n",
    "    def bfs(self, start:int) -> list[int]:\n",
    "        \"\"\"广度优先遍历\"\"\"\n",
    "        queue:list[int] = []\n",
    "        visited:list[int] = list()\n",
    "        queue.append(start)\n",
    "        visited.append(start)\n",
    "        while len(queue) != 0:\n",
    "            v1 = queue.pop(0)\n",
    "            for v2 in self._edges[v1]:\n",
    "                if v2 not in visited:\n",
    "                    queue.append(v2)\n",
    "                    visited.append(v2)\n",
    "        return visited\n",
    "        \n",
    "    \n",
    "g3 = AdjListGraph(7)\n",
    "g3.add_edge(0, 1)\n",
    "g3.add_edge(0, 3)\n",
    "g3.add_edge(1, 2)\n",
    "g3.add_edge(2, 5)\n",
    "g3.add_edge(4, 5)\n",
    "g3.add_edge(5, 6)\n",
    "print(g3.dfs(0))\n",
    "print(g3.bfs(2))"
   ],
   "metadata": {
    "collapsed": false,
    "ExecuteTime": {
     "end_time": "2023-10-19T12:38:54.395109700Z",
     "start_time": "2023-10-19T12:38:54.389090200Z"
    }
   },
   "id": "3a1f884167c631e7"
  },
  {
   "cell_type": "code",
   "execution_count": null,
   "outputs": [],
   "source": [],
   "metadata": {
    "collapsed": false
   },
   "id": "aafad0bb3eb0bcc9"
  }
 ],
 "metadata": {
  "kernelspec": {
   "display_name": "Python 3",
   "language": "python",
   "name": "python3"
  },
  "language_info": {
   "codemirror_mode": {
    "name": "ipython",
    "version": 2
   },
   "file_extension": ".py",
   "mimetype": "text/x-python",
   "name": "python",
   "nbconvert_exporter": "python",
   "pygments_lexer": "ipython2",
   "version": "2.7.6"
  }
 },
 "nbformat": 4,
 "nbformat_minor": 5
}
