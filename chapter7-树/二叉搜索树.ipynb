{
 "cells": [
  {
   "cell_type": "markdown",
   "source": [
    "## 7.4 二叉搜索树"
   ],
   "metadata": {
    "collapsed": false
   },
   "id": "f2a9d4436e59d08e"
  },
  {
   "cell_type": "code",
   "execution_count": 15,
   "outputs": [],
   "source": [
    "# 二叉树的基础节点\n",
    "class TreeNode:\n",
    "    def __init__(self, val):\n",
    "        self.val = val\n",
    "        self.left = None\n",
    "        self.right = None"
   ],
   "metadata": {
    "collapsed": false,
    "ExecuteTime": {
     "end_time": "2023-10-17T16:57:14.424205400Z",
     "start_time": "2023-10-17T16:57:14.406356700Z"
    }
   },
   "id": "6036a5ae0e2d922c"
  },
  {
   "cell_type": "markdown",
   "source": [
    "## 7.4.1 二叉搜索树的操作"
   ],
   "metadata": {
    "collapsed": false
   },
   "id": "8804f74b5bdbd139"
  },
  {
   "cell_type": "markdown",
   "source": [
    "### 1.插入操作"
   ],
   "metadata": {
    "collapsed": false
   },
   "id": "29a81d5d5155c9b4"
  },
  {
   "cell_type": "code",
   "execution_count": 25,
   "outputs": [],
   "source": [
    "def insert_node(root:TreeNode | None, val):\n",
    "    n = TreeNode(val)\n",
    "    if root is None:\n",
    "        root = n\n",
    "        return\n",
    "    else:\n",
    "        pre = None\n",
    "        curr = root\n",
    "        while curr is not None:\n",
    "            pre = curr\n",
    "            curr = curr.left if val < curr.val else curr.right\n",
    "        if val < pre.val:\n",
    "            pre.left = n\n",
    "        else:\n",
    "            pre.right = n\n",
    "            \n",
    "t1 = TreeNode(4)\n",
    "insert_node(t1, 2)\n",
    "insert_node(t1, 1)\n",
    "insert_node(t1, 3)\n",
    "insert_node(t1, 6)\n",
    "insert_node(t1, 5)\n",
    "insert_node(t1, 7)"
   ],
   "metadata": {
    "collapsed": false,
    "ExecuteTime": {
     "end_time": "2023-10-17T17:18:18.933862200Z",
     "start_time": "2023-10-17T17:18:18.921893600Z"
    }
   },
   "id": "851e0d11a8fd622a"
  },
  {
   "cell_type": "markdown",
   "source": [
    "二叉搜索树的中序遍历是升序列表"
   ],
   "metadata": {
    "collapsed": false
   },
   "id": "90965fa9b5db805f"
  },
  {
   "cell_type": "code",
   "execution_count": 26,
   "outputs": [
    {
     "data": {
      "text/plain": "[1, 2, 3, 4, 5, 6, 7]"
     },
     "execution_count": 26,
     "metadata": {},
     "output_type": "execute_result"
    }
   ],
   "source": [
    "# 2.中序遍历\n",
    "def inorder_traversal(root:TreeNode | None) -> list:\n",
    "    if root is None:\n",
    "        return []\n",
    "    return inorder_traversal(root.left) + [root.val] + inorder_traversal(root.right)\n",
    "\n",
    "inorder_traversal(t1)"
   ],
   "metadata": {
    "collapsed": false,
    "ExecuteTime": {
     "end_time": "2023-10-17T17:18:20.498650300Z",
     "start_time": "2023-10-17T17:18:20.484687Z"
    }
   },
   "id": "51b09363ed70509b"
  },
  {
   "cell_type": "markdown",
   "source": [
    "### 2.查找操作"
   ],
   "metadata": {
    "collapsed": false
   },
   "id": "70012454d76f3bf8"
  },
  {
   "cell_type": "code",
   "execution_count": 27,
   "outputs": [
    {
     "name": "stdout",
     "output_type": "stream",
     "text": [
      "4\n"
     ]
    }
   ],
   "source": [
    "def search(root:TreeNode | None, val) -> TreeNode | None:\n",
    "    if root is None:\n",
    "        return None\n",
    "    curr = root\n",
    "    while (curr is not None) and (curr.val != val):\n",
    "        curr = curr.left if val < curr.val else curr.right\n",
    "    return curr\n",
    "\n",
    "n4 = search(t1, 4)\n",
    "print(n4.val)"
   ],
   "metadata": {
    "collapsed": false,
    "ExecuteTime": {
     "end_time": "2023-10-17T17:18:21.997050400Z",
     "start_time": "2023-10-17T17:18:21.984085700Z"
    }
   },
   "id": "3d788da2f18f8e9a"
  },
  {
   "cell_type": "markdown",
   "source": [
    "### 3.删除节点\n",
    "删除一个节点后，将该节点右子树的最小值作为新的子树的根节点"
   ],
   "metadata": {
    "collapsed": false
   },
   "id": "334c72f1390ba5e"
  },
  {
   "cell_type": "code",
   "execution_count": 49,
   "outputs": [
    {
     "name": "stdout",
     "output_type": "stream",
     "text": [
      "[1, 2, 3, 4, 5, 6, 7]\n",
      "[1, 2, 3, 5, 6, 7]\n"
     ]
    }
   ],
   "source": [
    "def remove_node(root:TreeNode | None, val) -> TreeNode | None:\n",
    "    if root is not None: # 树为空树，则直接结束删除操作\n",
    "        pre = None\n",
    "        curr = root\n",
    "        while (curr is not None) and (curr.val != val):\n",
    "            pre = curr\n",
    "            curr = curr.left if val < curr.val else curr.right\n",
    "        if pre is not None:  # 如果删除的不是根节点\n",
    "            if curr is not None:  # 树中没有这个值，则直接结束删除操作\n",
    "                if curr.right is None:  # 如果右子树为空\n",
    "                    if curr.val < pre.val:\n",
    "                        pre.left = curr.left\n",
    "                    else:\n",
    "                        pre.right = curr.left\n",
    "                else:  # 如果右子树不为空，则寻找右子树的最小节点，并将其从树上取下来\n",
    "                    if curr.right.left is None:  # 如果右子树的最小节点已经是根节点，则不用寻找\n",
    "                        curr.right.left = curr.left\n",
    "                        if curr.val < pre.val:\n",
    "                            pre.left = curr.right\n",
    "                        else:\n",
    "                            pre.right = curr.right\n",
    "                    else:  # 如果右子树的最小节点不是根节点\n",
    "                        # 寻找右子树的最小节点，并将其从树上取下来\n",
    "                        small_pre = None\n",
    "                        small = curr.right\n",
    "                        while small.left is not None:\n",
    "                            small_pre = small\n",
    "                            small = small.left\n",
    "                        # 将其从树上取下来\n",
    "                        small_pre.left = small.right\n",
    "                        # 构建新的子树\n",
    "                        small.left = curr.left\n",
    "                        small.right = curr.right\n",
    "                        # 将新的子树挂到父结点上\n",
    "                        if curr.val < pre.val:\n",
    "                            pre.left = small\n",
    "                        else:\n",
    "                            pre.right = small\n",
    "            return root\n",
    "        else:  # 如果删除的是根节点\n",
    "            if curr is not None:  # 树中没有这个值，则直接结束删除操作\n",
    "                if curr.right is None:  # 如果右子树为空\n",
    "                    return curr.left\n",
    "                else:  # 如果右子树不为空，则寻找右子树的最小节点，并将其从树上取下来\n",
    "                    if curr.right.left is None:  # 如果右子树的最小节点已经是根节点，则不用寻找\n",
    "                        curr.right.left = curr.left\n",
    "                        return curr.right\n",
    "                    else:  # 如果右子树的最小节点不是根节点\n",
    "                        # 寻找右子树的最小节点，并将其从树上取下来\n",
    "                        small_pre = None\n",
    "                        small = curr.right\n",
    "                        while small.left is not None:\n",
    "                            small_pre = small\n",
    "                            small = small.left\n",
    "                        # 将其从树上取下来\n",
    "                        small_pre.left = small.right\n",
    "                        # 构建新的子树\n",
    "                        small.left = curr.left\n",
    "                        small.right = curr.right\n",
    "                        # 将新的子树挂到父结点上\n",
    "                        return small\n",
    "    return root\n",
    "\n",
    "t2 = TreeNode(4)\n",
    "insert_node(t2, 2)\n",
    "insert_node(t2, 1)\n",
    "insert_node(t2, 3)\n",
    "insert_node(t2, 6)\n",
    "insert_node(t2, 5)\n",
    "insert_node(t2, 7)\n",
    "print(inorder_traversal(t2))\n",
    "t2 = remove_node(t2, 4)\n",
    "print(inorder_traversal(t2))\n"
   ],
   "metadata": {
    "collapsed": false,
    "ExecuteTime": {
     "end_time": "2023-10-17T17:29:04.144240700Z",
     "start_time": "2023-10-17T17:29:04.134267100Z"
    }
   },
   "id": "e7a01792c639abfa"
  },
  {
   "cell_type": "code",
   "execution_count": 24,
   "outputs": [
    {
     "data": {
      "text/plain": "[1, 2, 3, 4, 5, 6, 7]"
     },
     "execution_count": 24,
     "metadata": {},
     "output_type": "execute_result"
    }
   ],
   "source": [
    "\n"
   ],
   "metadata": {
    "collapsed": false,
    "ExecuteTime": {
     "end_time": "2023-10-17T17:16:27.793150300Z",
     "start_time": "2023-10-17T17:16:27.778191200Z"
    }
   },
   "id": "c4aeff5f8abab7af"
  },
  {
   "cell_type": "code",
   "execution_count": null,
   "outputs": [],
   "source": [],
   "metadata": {
    "collapsed": false
   },
   "id": "73cd523d37fd477e"
  }
 ],
 "metadata": {
  "kernelspec": {
   "display_name": "Python 3",
   "language": "python",
   "name": "python3"
  },
  "language_info": {
   "codemirror_mode": {
    "name": "ipython",
    "version": 2
   },
   "file_extension": ".py",
   "mimetype": "text/x-python",
   "name": "python",
   "nbconvert_exporter": "python",
   "pygments_lexer": "ipython2",
   "version": "2.7.6"
  }
 },
 "nbformat": 4,
 "nbformat_minor": 5
}
