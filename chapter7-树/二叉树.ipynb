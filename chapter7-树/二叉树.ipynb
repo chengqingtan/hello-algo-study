{
 "cells": [
  {
   "cell_type": "markdown",
   "source": [
    "## 7.1 二叉树"
   ],
   "metadata": {
    "collapsed": false
   },
   "id": "a7601f7012d13bc7"
  },
  {
   "cell_type": "code",
   "execution_count": 1,
   "outputs": [],
   "source": [
    "# 二叉树的基础节点\n",
    "class TreeNode:\n",
    "    def __init__(self, val):\n",
    "        self.val = val\n",
    "        self.left = None\n",
    "        self.right = None"
   ],
   "metadata": {
    "collapsed": false,
    "ExecuteTime": {
     "end_time": "2023-10-17T15:50:22.358392100Z",
     "start_time": "2023-10-17T15:50:22.351556900Z"
    }
   },
   "id": "84a110ec94c41b65"
  },
  {
   "cell_type": "markdown",
   "source": [
    "## 7.1.2 二叉树基本操作"
   ],
   "metadata": {
    "collapsed": false
   },
   "id": "3d80d03d4db9f7d7"
  },
  {
   "cell_type": "markdown",
   "source": [
    "### 1.初始化二叉树"
   ],
   "metadata": {
    "collapsed": false
   },
   "id": "d8396f7ca30f134d"
  },
  {
   "cell_type": "code",
   "execution_count": 14,
   "outputs": [],
   "source": [
    "n1 = TreeNode(1)\n",
    "n2 = TreeNode(2)\n",
    "n3 = TreeNode(3)\n",
    "n4 = TreeNode(4)\n",
    "n5 = TreeNode(5)\n",
    "n6 = TreeNode(6)\n",
    "n7 = TreeNode(7)\n",
    "\n",
    "n1.left = n2\n",
    "n1.right = n3\n",
    "n2.left = n4\n",
    "n2.right = n5\n",
    "n3.left = n6\n",
    "n3.right = n7"
   ],
   "metadata": {
    "collapsed": false,
    "ExecuteTime": {
     "end_time": "2023-10-17T16:15:18.825579700Z",
     "start_time": "2023-10-17T16:15:18.817328600Z"
    }
   },
   "id": "ee515d434ecf8948"
  },
  {
   "cell_type": "markdown",
   "source": [
    "## 7.2.二叉树遍历"
   ],
   "metadata": {
    "collapsed": false
   },
   "id": "2439016cbf7b61df"
  },
  {
   "cell_type": "markdown",
   "source": [
    "#### 2.1 深度优先遍历"
   ],
   "metadata": {
    "collapsed": false
   },
   "id": "941229949b122df0"
  },
  {
   "cell_type": "code",
   "execution_count": 17,
   "outputs": [
    {
     "name": "stdout",
     "output_type": "stream",
     "text": [
      "先序遍历结果为: [1, 2, 4, 5, 3, 6, 7]\n",
      "中序遍历结果为: [4, 2, 5, 1, 6, 3, 7]\n",
      "后序遍历结果为: [4, 5, 2, 6, 7, 3, 1]\n"
     ]
    }
   ],
   "source": [
    "# 1.先序遍历\n",
    "def preorder_traversal(root: TreeNode | None) -> list:\n",
    "    if root is None:\n",
    "        return []\n",
    "    return [root.val] + preorder_traversal(root.left) + preorder_traversal(root.right)\n",
    "\n",
    "# 2.中序遍历\n",
    "def inorder_traversal(root:TreeNode | None) -> list:\n",
    "    if root is None:\n",
    "        return []\n",
    "    return inorder_traversal(root.left) + [root.val] + inorder_traversal(root.right)\n",
    "\n",
    "# 3.后序遍历\n",
    "def postorder_traversal(root:TreeNode | None) -> list:\n",
    "    if root is None:\n",
    "        return []\n",
    "    return postorder_traversal(root.left) + postorder_traversal(root.right) + [root.val]\n",
    "\n",
    "\n",
    "print(\"先序遍历结果为: {}\".format(preorder_traversal(n1)))\n",
    "print(\"中序遍历结果为: {}\".format(inorder_traversal(n1)))\n",
    "print(\"后序遍历结果为: {}\".format(postorder_traversal(n1)))"
   ],
   "metadata": {
    "collapsed": false,
    "ExecuteTime": {
     "end_time": "2023-10-17T16:15:57.660469Z",
     "start_time": "2023-10-17T16:15:57.653557400Z"
    }
   },
   "id": "de6070bfb80e96f4"
  },
  {
   "cell_type": "markdown",
   "source": [
    "#### 2.2 广度优先遍历"
   ],
   "metadata": {
    "collapsed": false
   },
   "id": "24a1335e8e592ddd"
  },
  {
   "cell_type": "code",
   "execution_count": 18,
   "outputs": [
    {
     "name": "stdout",
     "output_type": "stream",
     "text": [
      "分层遍历结果为: [1, 2, 3, 4, 5, 6, 7]\n"
     ]
    }
   ],
   "source": [
    "# 分层遍历(层序遍历)\n",
    "def level_order_traversal(root: TreeNode | None) -> list:\n",
    "    queue:list[TreeNode | None] = []\n",
    "    res:list = []\n",
    "    queue.append(root)\n",
    "    while len(queue) != 0:\n",
    "        e = queue.pop(0)\n",
    "        if e is not None:\n",
    "            res.append(e.val)\n",
    "            queue.append(e.left)\n",
    "            queue.append(e.right)\n",
    "    return res\n",
    "            \n",
    "print(\"分层遍历结果为: {}\".format(level_order_traversal(n1)))"
   ],
   "metadata": {
    "collapsed": false,
    "ExecuteTime": {
     "end_time": "2023-10-17T16:15:58.674395700Z",
     "start_time": "2023-10-17T16:15:58.666022600Z"
    }
   },
   "id": "a0c1a921cc891cd3"
  },
  {
   "cell_type": "markdown",
   "source": [
    "# 7.3 二叉树数组表示"
   ],
   "metadata": {
    "collapsed": false
   },
   "id": "20f675f057c49818"
  },
  {
   "cell_type": "code",
   "execution_count": 35,
   "outputs": [
    {
     "name": "stdout",
     "output_type": "stream",
     "text": [
      "2 的左子节点为 4, 右子节点为 5\n"
     ]
    }
   ],
   "source": [
    "# 使用数组来表示满二叉树（完美二叉树）\n",
    "# 任意一个节点索引为i, 左子节点索引为 2i+1, 右子节点索引为 2i+2\n",
    "t1 = [1, 2, 3, 4, 5, 6, 7]\n",
    "print(f\"{t1[1]} 的左子节点为 {t1[3]}, 右子节点为 {t1[4]}\")"
   ],
   "metadata": {
    "collapsed": false,
    "ExecuteTime": {
     "end_time": "2023-10-17T16:34:50.418341700Z",
     "start_time": "2023-10-17T16:34:50.409812400Z"
    }
   },
   "id": "275246045d8a0e96"
  },
  {
   "cell_type": "code",
   "execution_count": 38,
   "outputs": [
    {
     "name": "stdout",
     "output_type": "stream",
     "text": [
      "[1, 2, 5, 3, 6, 7]\n"
     ]
    }
   ],
   "source": [
    "# 对数组二叉树进行先序遍历\n",
    "def preorder_array_tree(arr:list):\n",
    "    \n",
    "    def _preorder_array_tree(arr:list, index:int) -> list:\n",
    "        if (index >= len(arr)) or (arr[index] is None):\n",
    "            return []\n",
    "        else:\n",
    "            return [arr[index]] + _preorder_array_tree(arr, 2 * index + 1) + _preorder_array_tree(arr, 2 * index + 2)\n",
    "    \n",
    "    return _preorder_array_tree(arr, 0)\n",
    "\n",
    "t2 = t1 = [1, 2, 3, None, 5, 6, 7]  # None 为空位，即2没有左子节点\n",
    "print(preorder_array_tree(t2))"
   ],
   "metadata": {
    "collapsed": false,
    "ExecuteTime": {
     "end_time": "2023-10-17T16:36:01.270050100Z",
     "start_time": "2023-10-17T16:36:01.258384100Z"
    }
   },
   "id": "e9a893967fbd1afa"
  },
  {
   "cell_type": "code",
   "execution_count": null,
   "outputs": [],
   "source": [],
   "metadata": {
    "collapsed": false
   },
   "id": "8b891807923cfe23"
  }
 ],
 "metadata": {
  "kernelspec": {
   "display_name": "Python 3",
   "language": "python",
   "name": "python3"
  },
  "language_info": {
   "codemirror_mode": {
    "name": "ipython",
    "version": 2
   },
   "file_extension": ".py",
   "mimetype": "text/x-python",
   "name": "python",
   "nbconvert_exporter": "python",
   "pygments_lexer": "ipython2",
   "version": "2.7.6"
  }
 },
 "nbformat": 4,
 "nbformat_minor": 5
}
