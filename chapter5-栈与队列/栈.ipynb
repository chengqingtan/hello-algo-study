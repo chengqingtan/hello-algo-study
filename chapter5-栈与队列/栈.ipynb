{
 "cells": [
  {
   "cell_type": "markdown",
   "source": [
    "## 5.1 栈\n",
    "python的list可以当作栈来使用, append入栈, pop出栈"
   ],
   "metadata": {
    "collapsed": false
   },
   "id": "af03bad4ab016cf8"
  },
  {
   "cell_type": "code",
   "execution_count": 2,
   "outputs": [
    {
     "data": {
      "text/plain": "[1, 2, 3]"
     },
     "execution_count": 2,
     "metadata": {},
     "output_type": "execute_result"
    }
   ],
   "source": [
    "stack: list[int] = []\n",
    "# 入栈\n",
    "stack.append(1)\n",
    "stack.append(2)\n",
    "stack.append(3)\n",
    "stack.append(4)\n",
    "# 出栈\n",
    "pop = stack.pop()\n",
    "# 获取栈长度\n",
    "length = len(stack)\n",
    "stack"
   ],
   "metadata": {
    "collapsed": false,
    "ExecuteTime": {
     "end_time": "2023-10-17T10:06:29.013303200Z",
     "start_time": "2023-10-17T10:06:29.013303200Z"
    }
   },
   "id": "f4005da85b3e22ff"
  },
  {
   "cell_type": "markdown",
   "source": [
    "## 使用链表实现栈"
   ],
   "metadata": {
    "collapsed": false
   },
   "id": "6574c1d77e642c56"
  },
  {
   "cell_type": "code",
   "execution_count": 25,
   "outputs": [],
   "source": [
    "class ListNode(object):\n",
    "    def __init__(self, val):\n",
    "        self.val = val\n",
    "        self.next = None\n",
    "\n",
    "\n",
    "class LinkedListStack(object):\n",
    "    def __init__(self):\n",
    "        self._head: ListNode | None = None\n",
    "        self._len: int = 0\n",
    "\n",
    "    def __len__(self):\n",
    "        return self._len\n",
    "    \n",
    "    def __str__(self):\n",
    "        return self.to_list().__str__()\n",
    "\n",
    "    def push(self, val) -> None:\n",
    "        n = ListNode(val)\n",
    "        self._len += 1\n",
    "        if self._head is None:\n",
    "            self._head = n\n",
    "        else:\n",
    "            n.next = self._head\n",
    "            self._head = n\n",
    "\n",
    "    def pop(self):\n",
    "        if self._head is None:\n",
    "            return None\n",
    "        else:\n",
    "            val = self._head.val\n",
    "            self._len -= 1\n",
    "            self._head = self._head.next\n",
    "            return val\n",
    "\n",
    "    def peek(self):\n",
    "        if self._head is None:\n",
    "            return None\n",
    "        else:\n",
    "            return self._head.val\n",
    "\n",
    "    def size(self) -> int:\n",
    "        return self._len\n",
    "\n",
    "    def to_list(self):\n",
    "        curr = self._head\n",
    "        res = []\n",
    "        while curr is not None:\n",
    "            res.append(curr.val)\n",
    "            curr = curr.next\n",
    "        return res\n"
   ],
   "metadata": {
    "collapsed": false,
    "ExecuteTime": {
     "end_time": "2023-10-17T10:31:37.282981200Z",
     "start_time": "2023-10-17T10:31:37.277076200Z"
    }
   },
   "id": "a53dcb7ab34d9637"
  },
  {
   "cell_type": "code",
   "execution_count": 26,
   "outputs": [
    {
     "name": "stdout",
     "output_type": "stream",
     "text": [
      "[3, 2, 1]\n"
     ]
    }
   ],
   "source": [
    "linkedListStack = LinkedListStack()\n",
    "linkedListStack.push(1)\n",
    "linkedListStack.push(2)\n",
    "linkedListStack.push(3)\n",
    "linkedListStack.push(4)\n",
    "pop = linkedListStack.pop()\n",
    "print(linkedListStack)"
   ],
   "metadata": {
    "collapsed": false,
    "ExecuteTime": {
     "end_time": "2023-10-17T10:31:37.659511100Z",
     "start_time": "2023-10-17T10:31:37.656583500Z"
    }
   },
   "id": "b26df2e23a06667b"
  },
  {
   "cell_type": "markdown",
   "source": [
    "## 使用数组实现栈"
   ],
   "metadata": {
    "collapsed": false
   },
   "id": "c6e11a463ca2226d"
  },
  {
   "cell_type": "code",
   "execution_count": 33,
   "outputs": [],
   "source": [
    "class ArrayStack(object):\n",
    "    def __init__(self):\n",
    "        self._stack = list()\n",
    "        \n",
    "    def __len__(self):\n",
    "        return len(self._stack)\n",
    "    \n",
    "    def __str__(self):\n",
    "        return self._stack.__str__()\n",
    "    \n",
    "    def push(self, val):\n",
    "        self._stack.append(val)\n",
    "        \n",
    "    def pop(self):\n",
    "        return self._stack.pop()\n",
    "        \n",
    "    def peek(self):\n",
    "        return self._stack[-1]\n",
    "    \n",
    "    def size(self):\n",
    "        return len(self._stack)\n",
    "    \n",
    "    def to_list(self):\n",
    "        return self._stack.copy()"
   ],
   "metadata": {
    "collapsed": false,
    "ExecuteTime": {
     "end_time": "2023-10-17T10:32:17.140123200Z",
     "start_time": "2023-10-17T10:32:17.134267200Z"
    }
   },
   "id": "7855c3092db15af"
  },
  {
   "cell_type": "code",
   "execution_count": 35,
   "outputs": [
    {
     "name": "stdout",
     "output_type": "stream",
     "text": [
      "[1, 2, 3, 4]\n"
     ]
    }
   ],
   "source": [
    "arrayStack = ArrayStack()\n",
    "arrayStack.push(1)\n",
    "arrayStack.push(2)\n",
    "arrayStack.push(3)\n",
    "arrayStack.push(4)\n",
    "arrayStack.push(5)\n",
    "arrayStack.pop()\n",
    "# arrayStack.peek()\n",
    "print(arrayStack)"
   ],
   "metadata": {
    "collapsed": false,
    "ExecuteTime": {
     "end_time": "2023-10-17T10:32:20.980229500Z",
     "start_time": "2023-10-17T10:32:20.975350500Z"
    }
   },
   "id": "f5dd658516b67b38"
  },
  {
   "cell_type": "code",
   "execution_count": null,
   "outputs": [],
   "source": [],
   "metadata": {
    "collapsed": false
   },
   "id": "906f7d6759cf9c87"
  }
 ],
 "metadata": {
  "kernelspec": {
   "display_name": "Python 3",
   "language": "python",
   "name": "python3"
  },
  "language_info": {
   "codemirror_mode": {
    "name": "ipython",
    "version": 2
   },
   "file_extension": ".py",
   "mimetype": "text/x-python",
   "name": "python",
   "nbconvert_exporter": "python",
   "pygments_lexer": "ipython2",
   "version": "2.7.6"
  }
 },
 "nbformat": 4,
 "nbformat_minor": 5
}
