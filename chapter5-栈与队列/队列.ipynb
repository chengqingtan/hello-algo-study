{
 "cells": [
  {
   "cell_type": "markdown",
   "source": [
    "## 5.2 队列"
   ],
   "metadata": {
    "collapsed": false
   },
   "id": "90c969e081b42840"
  },
  {
   "cell_type": "markdown",
   "source": [
    "### 使用python的list作为队列\n",
    "append()入队\n",
    "pop(0)出队\n",
    "list[0]访问队列的第一个元素"
   ],
   "metadata": {
    "collapsed": false
   },
   "id": "6dd9ac15f9129889"
  },
  {
   "cell_type": "code",
   "execution_count": 1,
   "outputs": [
    {
     "data": {
      "text/plain": "[2, 3, 4]"
     },
     "execution_count": 1,
     "metadata": {},
     "output_type": "execute_result"
    }
   ],
   "source": [
    "queue = list()\n",
    "queue.append(1)\n",
    "queue.append(2)\n",
    "queue.append(3)\n",
    "queue.append(4)\n",
    "queue.pop(0)\n",
    "queue"
   ],
   "metadata": {
    "collapsed": false,
    "ExecuteTime": {
     "end_time": "2023-10-17T10:35:52.843620800Z",
     "start_time": "2023-10-17T10:35:52.836382600Z"
    }
   },
   "id": "61c594929af046da"
  },
  {
   "cell_type": "markdown",
   "source": [
    "## 使用链表实现队列"
   ],
   "metadata": {
    "collapsed": false
   },
   "id": "30b9ec86d4959fd8"
  },
  {
   "cell_type": "code",
   "execution_count": 4,
   "outputs": [],
   "source": [
    "class ListNode:\n",
    "    def __init__(self, val):\n",
    "        self.val = val\n",
    "        self.next: ListNode | None = None\n",
    "\n",
    "\n",
    "class LinkedListQueue:\n",
    "    def __init__(self):\n",
    "        self._head: ListNode | None = None\n",
    "        self._last: ListNode | None = None\n",
    "        self._len: int = 0\n",
    "\n",
    "    def __len__(self):\n",
    "        return self._len\n",
    "    \n",
    "    def __str__(self):\n",
    "        return self.to_list().__str__()\n",
    "\n",
    "    def push(self, val):\n",
    "        n = ListNode(val)\n",
    "        self._len += 1\n",
    "        if self._head is None:\n",
    "            self._head = n\n",
    "            self._last = n\n",
    "        else:\n",
    "            self._last.next = n\n",
    "            self._last = self._last.next\n",
    "    \n",
    "    def pop(self):\n",
    "        if self._head is None:\n",
    "            return None\n",
    "        self._len -= 1\n",
    "        val = self._head.val\n",
    "        self._head = self._head.next\n",
    "        if self._head is None:\n",
    "            self._last = None\n",
    "        return val\n",
    "    \n",
    "    def peek(self):\n",
    "        if self._head is None:\n",
    "            return None\n",
    "        return self._head.val\n",
    "    \n",
    "    def to_list(self):\n",
    "        curr = self._head\n",
    "        res = []\n",
    "        while curr is not None:\n",
    "            res.append(curr.val)\n",
    "            curr = curr.next\n",
    "        return res\n"
   ],
   "metadata": {
    "collapsed": false,
    "ExecuteTime": {
     "end_time": "2023-10-17T10:44:13.486103900Z",
     "start_time": "2023-10-17T10:44:13.480195900Z"
    }
   },
   "id": "de55f90dedaf4a3a"
  },
  {
   "cell_type": "code",
   "execution_count": 7,
   "outputs": [
    {
     "name": "stdout",
     "output_type": "stream",
     "text": [
      "[2, 3, 4]\n"
     ]
    }
   ],
   "source": [
    "linkedListQueue = LinkedListQueue()\n",
    "linkedListQueue.push(1)\n",
    "linkedListQueue.push(2)\n",
    "linkedListQueue.push(3)\n",
    "linkedListQueue.push(4)\n",
    "pop = linkedListQueue.pop()\n",
    "# linkedListQueue.peek()\n",
    "print(linkedListQueue)"
   ],
   "metadata": {
    "collapsed": false,
    "ExecuteTime": {
     "end_time": "2023-10-17T10:45:06.908663600Z",
     "start_time": "2023-10-17T10:45:06.902319800Z"
    }
   },
   "id": "8485901926fe521c"
  },
  {
   "cell_type": "markdown",
   "source": [
    "## 使用数组实现的队列"
   ],
   "metadata": {
    "collapsed": false
   },
   "id": "ba48f0b62a18c6b4"
  },
  {
   "cell_type": "code",
   "execution_count": 9,
   "outputs": [],
   "source": [
    "class ArrayQueue:\n",
    "    def __init__(self):\n",
    "        self._queue = list()\n",
    "    \n",
    "    def __len__(self):\n",
    "        return len(self._queue)\n",
    "    \n",
    "    def __str__(self):\n",
    "        return self.to_list().__str__()\n",
    "    \n",
    "    def push(self, val):\n",
    "        self._queue.append(val)\n",
    "        \n",
    "    def pop(self):\n",
    "        return self._queue.pop(0)\n",
    "    \n",
    "    def peek(self):\n",
    "        return self._queue[0]\n",
    "    \n",
    "    def to_list(self):\n",
    "        return self._queue\n",
    "    "
   ],
   "metadata": {
    "collapsed": false,
    "ExecuteTime": {
     "end_time": "2023-10-17T10:48:08.457527700Z",
     "start_time": "2023-10-17T10:48:08.452177900Z"
    }
   },
   "id": "c0f3d7d9c3ac99b9"
  },
  {
   "cell_type": "code",
   "execution_count": 15,
   "outputs": [
    {
     "name": "stdout",
     "output_type": "stream",
     "text": [
      "[2, 3, 4]\n"
     ]
    }
   ],
   "source": [
    "arrayQueue = ArrayQueue()\n",
    "arrayQueue.push(1)\n",
    "arrayQueue.push(2)\n",
    "arrayQueue.push(3)\n",
    "arrayQueue.push(4)\n",
    "pop = arrayQueue.pop()\n",
    "# arrayQueue.peek()\n",
    "# len(arrayQueue)\n",
    "print(arrayQueue)"
   ],
   "metadata": {
    "collapsed": false,
    "ExecuteTime": {
     "end_time": "2023-10-17T10:51:09.170367300Z",
     "start_time": "2023-10-17T10:51:09.165488Z"
    }
   },
   "id": "40aa53386f4fcb34"
  },
  {
   "cell_type": "code",
   "execution_count": null,
   "outputs": [],
   "source": [],
   "metadata": {
    "collapsed": false
   },
   "id": "4d4036b8a17475"
  }
 ],
 "metadata": {
  "kernelspec": {
   "display_name": "Python 3",
   "language": "python",
   "name": "python3"
  },
  "language_info": {
   "codemirror_mode": {
    "name": "ipython",
    "version": 2
   },
   "file_extension": ".py",
   "mimetype": "text/x-python",
   "name": "python",
   "nbconvert_exporter": "python",
   "pygments_lexer": "ipython2",
   "version": "2.7.6"
  }
 },
 "nbformat": 4,
 "nbformat_minor": 5
}
